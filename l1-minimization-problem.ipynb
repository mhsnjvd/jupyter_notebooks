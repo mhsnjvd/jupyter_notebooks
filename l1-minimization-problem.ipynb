{
 "cells": [
  {
   "cell_type": "code",
   "execution_count": 126,
   "metadata": {},
   "outputs": [],
   "source": [
    "%matplotlib inline\n",
    "import matplotlib.pyplot as plt\n",
    "import numpy as np\n",
    "import pandas as pd"
   ]
  },
  {
   "cell_type": "markdown",
   "metadata": {},
   "source": [
    "# A Problem of minimizing the $l_1$ norm\n",
    "\n",
    "### Mohsin Javed, June 01, 2019\n",
    "\n",
    "Given vectors $v, w$ in $\\mathbf{R}^n$, find $\\alpha \\in \\mathbf{R}$ such that $\\|\\alpha v - w \\|_1$ is minimized.\n",
    "\n",
    "Recall that\n",
    "\n",
    "\\begin{align}\n",
    "\\|\\alpha v - w \\|_1 = \\sum_{i=1}^{n}|\\alpha v_i - w_i|, \\qquad i = 1, 2, \\ldots, n.\n",
    "\\end{align}\n",
    "\n",
    "Let us explore the structure of the problem for $n=4$."
   ]
  },
  {
   "cell_type": "code",
   "execution_count": 138,
   "metadata": {},
   "outputs": [],
   "source": [
    "n = 20\n",
    "v = np.random.randint(-20, 20, n)\n",
    "w = np.random.randint(-20, 20, n)\n",
    "#v = np.array([-8, -1, 1, 8])\n",
    "#w = np.array([ -9,  16, -20, -12])"
   ]
  },
  {
   "cell_type": "markdown",
   "metadata": {},
   "source": [
    "We now pick a range of $\\alpha$ and compute and plot the $l_1$-norm."
   ]
  },
  {
   "cell_type": "code",
   "execution_count": 139,
   "metadata": {},
   "outputs": [],
   "source": [
    "alpha = np.arange(-5, 5, .05)\n",
    "l1_norm = list(map(lambda a: np.linalg.norm(a*v - w, 1), alpha))"
   ]
  },
  {
   "cell_type": "code",
   "execution_count": 140,
   "metadata": {},
   "outputs": [
    {
     "data": {
      "image/png": "[encoded data removed]",
      "text/plain": [
       "<Figure size 432x288 with 1 Axes>"
      ]
     },
     "metadata": {
      "needs_background": "light"
     },
     "output_type": "display_data"
    }
   ],
   "source": [
    "plt.plot(alpha, l1_norm)\n",
    "plt.grid(True)\n",
    "plt.title('||alpha * v - w||_1')\n",
    "plt.xlabel('alpha')\n",
    "plt.ylabel('||alpha * v - w||_1');"
   ]
  },
  {
   "cell_type": "markdown",
   "metadata": {},
   "source": [
    "Clearly for large enough $\\alpha$, the function is increasing and linear. In fact, the function has the slope $\\|v\\|_1$ for large positive $\\alpha$. This is true because for large positive $\\alpha$, the term \n",
    "$\\alpha v_i - w_i$ has the same sign as the sign of $v_i$. Hence in this case, the net coefficient of $\\alpha$ in the smmation $\\sum_{i=1}^{n} |\\alpha v_i - w_i|$ is $\\|v\\|_1$. Similarly, for sufficiently negative $\\alpha$, the functon is decreasing, linear and has slope $-\\|v\\|_1$. The slope of the norm changes from $-\\|v\\|_1$ to $\\|v\\|_1$, therefore, the function must have a minimum in between. \n",
    "\n",
    "The simplest case to solve is when $n=1$. This one dimentional problem is trivial. The function $\\|\\alpha v - w\\|_1$ has a minimum at $\\alpha^* = \\frac{w}{v}$. For $n=2$, the function $\\|\\alpha v - w\\|_1$ has a minimum contained in the interval formed by the minimum and the maximum of the set $\\{w_1/v_1, w_2/v_2\\}$. \n",
    "\n",
    "The general solution can now be outlined. Find the numbers $a$ and $b$, such that:\n",
    "\n",
    "\\begin{align}\n",
    "a &= \\min \\{w_i/v_i: v_i \\neq 0, i = 1, 2, \\ldots, n\\},\\\\\n",
    "b &= \\max \\{w_i/v_i: v_i \\neq 0, i = 1, 2, \\ldots, n\\}.\n",
    "\\end{align}\n",
    "\n",
    "The minimum of the $l_1$-norm lies in the interval $[a, b]$."
   ]
  },
  {
   "cell_type": "code",
   "execution_count": 141,
   "metadata": {},
   "outputs": [
    {
     "data": {
      "text/plain": [
       "[-13.0, 4.666666666666667]"
      ]
     },
     "execution_count": 141,
     "metadata": {},
     "output_type": "execute_result"
    }
   ],
   "source": [
    "roots = [w_i/v_i for (w_i, v_i) in zip(w, v) if v_i != 0]\n",
    "a = np.min(roots)\n",
    "b = np.max(roots)\n",
    "[a, b]"
   ]
  },
  {
   "cell_type": "markdown",
   "metadata": {},
   "source": [
    "To find the minimum, we argue as follows. The function defining the $l_1$ norm is a sum of absolute value functions, hence continuous and piecewise differentiable. The minimum must lie on one of the _boundary_ points:\n",
    "\n",
    "\\begin{align}\n",
    "\\alpha^{*} = argmin \\{\\|\\alpha v - w\\|_1\\big{|}_{\\alpha = w_i/v_i}: i = 1, 2, \\ldots, n \\}\\\\\n",
    "\\end{align}\n"
   ]
  },
  {
   "cell_type": "code",
   "execution_count": 142,
   "metadata": {},
   "outputs": [
    {
     "data": {
      "text/plain": [
       "[-13.0,\n",
       " -10.0,\n",
       " -9.5,\n",
       " -3.1666666666666665,\n",
       " -2.5,\n",
       " -0.9,\n",
       " -0.8333333333333334,\n",
       " -0.75,\n",
       " -0.6153846153846154,\n",
       " -0.4117647058823529,\n",
       " 0.07692307692307693,\n",
       " 0.1,\n",
       " 0.2857142857142857,\n",
       " 0.5263157894736842,\n",
       " 1.1,\n",
       " 1.5714285714285714,\n",
       " 2.4285714285714284,\n",
       " 3.25,\n",
       " 4.666666666666667]"
      ]
     },
     "execution_count": 142,
     "metadata": {},
     "output_type": "execute_result"
    }
   ],
   "source": [
    "critical_points = sorted(roots)\n",
    "critical_points"
   ]
  },
  {
   "cell_type": "code",
   "execution_count": 143,
   "metadata": {},
   "outputs": [
    {
     "data": {
      "text/plain": [
       "[2092.0,\n",
       " 1609.0,\n",
       " 1530.5,\n",
       " 561.5,\n",
       " 467.5,\n",
       " 248.3,\n",
       " 240.50000000000003,\n",
       " 233.75,\n",
       " 226.07692307692312,\n",
       " 219.76470588235293,\n",
       " 221.23076923076923,\n",
       " 221.9,\n",
       " 231.0,\n",
       " 246.15789473684214,\n",
       " 304.09999999999997,\n",
       " 361.1428571428571,\n",
       " 476.8571428571428,\n",
       " 599.25,\n",
       " 821.6666666666666]"
      ]
     },
     "execution_count": 143,
     "metadata": {},
     "output_type": "execute_result"
    }
   ],
   "source": [
    "norm_values = list(map(lambda a: np.linalg.norm(a*v - w, 1), critical_points))\n",
    "norm_values"
   ]
  },
  {
   "cell_type": "code",
   "execution_count": 144,
   "metadata": {},
   "outputs": [
    {
     "data": {
      "text/plain": [
       "(-0.4117647058823529, 219.76470588235293)"
      ]
     },
     "execution_count": 144,
     "metadata": {},
     "output_type": "execute_result"
    }
   ],
   "source": [
    "alpha_star = critical_points[np.argmin(norm_values)]\n",
    "f_min = norm_values[np.argmin(norm_values)]\n",
    "(alpha_star, f_min)"
   ]
  },
  {
   "cell_type": "code",
   "execution_count": 145,
   "metadata": {},
   "outputs": [
    {
     "data": {
      "image/png": "[encoded data removed]",
      "text/plain": [
       "<Figure size 432x288 with 1 Axes>"
      ]
     },
     "metadata": {
      "needs_background": "light"
     },
     "output_type": "display_data"
    }
   ],
   "source": [
    "plt.plot(alpha, l1_norm)\n",
    "plt.plot(alpha_star, f_min, 'r*')\n",
    "plt.grid(True)\n",
    "plt.title('||alpha * v - w||_1')\n",
    "plt.xlabel('alpha')\n",
    "plt.ylabel('||alpha * v - w||_1');\n",
    "plt.plot();"
   ]
  },
  {
   "cell_type": "code",
   "execution_count": null,
   "metadata": {},
   "outputs": [],
   "source": []
  }
 ],
 "metadata": {
  "kernelspec": {
   "display_name": "Python 3",
   "language": "python",
   "name": "python3"
  },
  "language_info": {
   "codemirror_mode": {
    "name": "ipython",
    "version": 3
   },
   "file_extension": ".py",
   "mimetype": "text/x-python",
   "name": "python",
   "nbconvert_exporter": "python",
   "pygments_lexer": "ipython3",
   "version": "3.7.2"
  }
 },
 "nbformat": 4,
 "nbformat_minor": 2
}
