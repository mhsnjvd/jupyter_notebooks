{
 "cells": [
  {
   "cell_type": "code",
   "execution_count": 126,
   "metadata": {},
   "outputs": [],
   "source": [
    "%matplotlib inline\n",
    "import matplotlib.pyplot as plt\n",
    "import numpy as np\n",
    "import pandas as pd"
   ]
  },
  {
   "cell_type": "markdown",
   "metadata": {},
   "source": [
    "# A Problem of minimizing the $l_1$ norm\n",
    "\n",
    "### Mohsin Javed, June 01, 2019\n",
    "\n",
    "Given vectors $v, w$ in $\\mathbf{R}^n$, find $\\alpha \\in \\mathbf{R}$ such that $\\|\\alpha v - w \\|_1$ is minimized.\n",
    "\n",
    "Recall that\n",
    "\n",
    "\\begin{align}\n",
    "\\|\\alpha v - w \\|_1 = \\sum_{i=1}^{n}|\\alpha v_i - w_i|, \\qquad i = 1, 2, \\ldots, n.\n",
    "\\end{align}\n",
    "\n",
    "Let us explore the structure of the problem for $n=4$."
   ]
  },
  {
   "cell_type": "code",
   "execution_count": 127,
   "metadata": {},
   "outputs": [],
   "source": [
    "n = 20\n",
    "v = np.random.randint(-20, 20, n)\n",
    "w = np.random.randint(-20, 20, n)\n",
    "#v = np.array([-8, -1, 1, 8])\n",
    "#w = np.array([ -9,  16, -20, -12])"
   ]
  },
  {
   "cell_type": "markdown",
   "metadata": {},
   "source": [
    "We now pick a range of $\\alpha$ and compute and plot the $l_1$-norm."
   ]
  },
  {
   "cell_type": "code",
   "execution_count": 128,
   "metadata": {},
   "outputs": [],
   "source": [
    "alpha = np.arange(-5, 5, .05)\n",
    "l1_norm = list(map(lambda a: np.linalg.norm(a*v - w, 1), alpha))"
   ]
  },
  {
   "cell_type": "code",
   "execution_count": 129,
   "metadata": {},
   "outputs": [
    {
     "data": {
      "image/png": "[encoded data removed]",
      "text/plain": [
       "<Figure size 432x288 with 1 Axes>"
      ]
     },
     "metadata": {
      "needs_background": "light"
     },
     "output_type": "display_data"
    }
   ],
   "source": [
    "plt.plot(alpha, l1_norm)\n",
    "plt.grid(True)\n",
    "plt.title('||alpha * v - w||_1')\n",
    "plt.xlabel('alpha')\n",
    "plt.ylabel('||alpha * v - w||_1');"
   ]
  },
  {
   "cell_type": "markdown",
   "metadata": {},
   "source": [
    "Clearly for large enough $\\alpha$, the function is increasing and linear. In fact, the function has the slope $\\|v\\|_1$ for large positive $\\alpha$. This is true because for large positive $\\alpha$, the term \n",
    "$\\alpha v_i - w_i$ has the same sign as the sign of $v_i$. Hence in this case, the net coefficient of $\\alpha$ in the smmation $\\sum_{i=1}^{n} |\\alpha v_i - w_i|$ is $\\|v\\|_1$. Similarly, for sufficiently negative $\\alpha$, the functon is decreasing, linear and has slope $-\\|v\\|_1$. The slope of the norm changes from $-\\|v\\|_1$ to $\\|v\\|_1$, therefore, the function must have a minimum in between. \n",
    "\n",
    "The simplest case to solve is when $n=1$. This one dimentional problem is trivial. The function $\\|\\alpha v - w\\|_1$ has a minimum at $\\alpha^* = \\frac{w}{v}$. For $n=2$, the function $\\|\\alpha v - w\\|_1$ has a minimum contained in the interval formed by the minimum and the maximum of the set $\\{w_1/v_1, w_2/v_2\\}$. \n",
    "\n",
    "The general solution can now be outlined. Find the numbers $a$ and $b$, such that:\n",
    "\n",
    "\\begin{align}\n",
    "a &= \\min \\{w_i/v_i: v_i \\neq 0, i = 1, 2, \\ldots, n\\},\\\\\n",
    "~ & \\\\\n",
    "b &= \\max \\{w_i/v_i: v_i \\neq 0, i = 1, 2, \\ldots, n\\}.\\\\\n",
    "\\end{align}\n",
    "\n",
    "The minimum of the $l_1$-norm lies in the interval $[a, b]$."
   ]
  },
  {
   "cell_type": "code",
   "execution_count": 133,
   "metadata": {},
   "outputs": [
    {
     "data": {
      "text/plain": [
       "[-1.75, 5.0]"
      ]
     },
     "execution_count": 133,
     "metadata": {},
     "output_type": "execute_result"
    }
   ],
   "source": [
    "roots = [w_i/v_i for (w_i, v_i) in zip(w, v) if v_i != 0]\n",
    "a = np.min(roots)\n",
    "b = np.max(roots)\n",
    "[a, b]"
   ]
  },
  {
   "cell_type": "markdown",
   "metadata": {},
   "source": [
    "To find the minimum, we argue as follows. The function defining the $l_1$ norm is a sum of absolute value functions, hence continuous and piecewise differentiable. The minimum must lie on one of the _boundary_ points:\n",
    "\n",
    "\\begin{align}\n",
    "\\alpha^* = argmin \\{\\|\\alpha v - w\\|_1\\big{|}_{\\alpha = w_i/v_i}: i = 1, 2, \\ldots, n \\}\n",
    "\\end{align}"
   ]
  },
  {
   "cell_type": "code",
   "execution_count": 134,
   "metadata": {},
   "outputs": [
    {
     "data": {
      "text/plain": [
       "[-1.75,\n",
       " -1.3333333333333333,\n",
       " -0.8181818181818182,\n",
       " -0.5,\n",
       " -0.4166666666666667,\n",
       " -0.25,\n",
       " -0.21052631578947367,\n",
       " 0.47058823529411764,\n",
       " 0.7333333333333333,\n",
       " 0.8,\n",
       " 0.9285714285714286,\n",
       " 1.3076923076923077,\n",
       " 1.3636363636363635,\n",
       " 1.6,\n",
       " 1.6666666666666667,\n",
       " 2.5,\n",
       " 3.0,\n",
       " 4.75,\n",
       " 5.0]"
      ]
     },
     "execution_count": 134,
     "metadata": {},
     "output_type": "execute_result"
    }
   ],
   "source": [
    "critical_points = sorted(roots)\n",
    "critical_points"
   ]
  },
  {
   "cell_type": "code",
   "execution_count": 135,
   "metadata": {},
   "outputs": [
    {
     "data": {
      "text/plain": [
       "[469.5,\n",
       " 393.66666666666663,\n",
       " 312.2727272727273,\n",
       " 269.0,\n",
       " 258.6666666666667,\n",
       " 242.0,\n",
       " 239.31578947368422,\n",
       " 218.88235294117646,\n",
       " 219.93333333333334,\n",
       " 222.19999999999996,\n",
       " 227.85714285714283,\n",
       " 255.15384615384616,\n",
       " 260.6363636363636,\n",
       " 289.00000000000006,\n",
       " 298.3333333333333,\n",
       " 420.0,\n",
       " 501.0,\n",
       " 805.5,\n",
       " 851.0]"
      ]
     },
     "execution_count": 135,
     "metadata": {},
     "output_type": "execute_result"
    }
   ],
   "source": [
    "norm_values = list(map(lambda a: np.linalg.norm(a*v - w, 1), critical_points))\n",
    "norm_values"
   ]
  },
  {
   "cell_type": "code",
   "execution_count": 136,
   "metadata": {},
   "outputs": [
    {
     "data": {
      "text/plain": [
       "(0.47058823529411764, 218.88235294117646)"
      ]
     },
     "execution_count": 136,
     "metadata": {},
     "output_type": "execute_result"
    }
   ],
   "source": [
    "alpha_star = critical_points[np.argmin(norm_values)]\n",
    "f_min = norm_values[np.argmin(norm_values)]\n",
    "(alpha_star, f_min)"
   ]
  },
  {
   "cell_type": "code",
   "execution_count": 137,
   "metadata": {},
   "outputs": [
    {
     "data": {
      "image/png": "[encoded data removed]",
      "text/plain": [
       "<Figure size 432x288 with 1 Axes>"
      ]
     },
     "metadata": {
      "needs_background": "light"
     },
     "output_type": "display_data"
    }
   ],
   "source": [
    "plt.plot(alpha, l1_norm)\n",
    "plt.plot(alpha_star, f_min, 'r*')\n",
    "plt.grid(True)\n",
    "plt.title('||alpha * v - w||_1')\n",
    "plt.xlabel('alpha')\n",
    "plt.ylabel('||alpha * v - w||_1');\n",
    "plt.plot();"
   ]
  },
  {
   "cell_type": "code",
   "execution_count": null,
   "metadata": {},
   "outputs": [],
   "source": []
  }
 ],
 "metadata": {
  "kernelspec": {
   "display_name": "Python 3",
   "language": "python",
   "name": "python3"
  },
  "language_info": {
   "codemirror_mode": {
    "name": "ipython",
    "version": 3
   },
   "file_extension": ".py",
   "mimetype": "text/x-python",
   "name": "python",
   "nbconvert_exporter": "python",
   "pygments_lexer": "ipython3",
   "version": "3.7.2"
  }
 },
 "nbformat": 4,
 "nbformat_minor": 2
}
