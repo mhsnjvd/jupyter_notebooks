{
 "cells": [
  {
   "cell_type": "code",
   "execution_count": 1,
   "metadata": {},
   "outputs": [],
   "source": [
    "%matplotlib inline\n",
    "import matplotlib.pyplot as plt\n",
    "import numpy as np\n",
    "import pandas as pd"
   ]
  },
  {
   "cell_type": "markdown",
   "metadata": {},
   "source": [
    "# A Problem of minimizing the $l_1$ norm\n",
    "\n",
    "### Mohsin Javed, June 01, 2019\n",
    "\n",
    "Given vectors $v, w$ in $\\mathbf{R}^n$, find $\\alpha \\in \\mathbf{R}$ such that $\\|\\alpha v - w \\|_1$ is minimized.\n",
    "\n",
    "Recall that\n",
    "\n",
    "\\begin{align}\n",
    "\\|\\alpha v - w \\|_1 = \\sum_{i=1}^{n}|\\alpha v_i - w_i|, \\qquad i = 1, 2, \\ldots, n.\n",
    "\\end{align}\n",
    "\n",
    "Let us explore the structure of the problem for $n=4$."
   ]
  },
  {
   "cell_type": "code",
   "execution_count": 2,
   "metadata": {},
   "outputs": [],
   "source": [
    "n = 20\n",
    "v = np.random.randint(-20, 20, n)\n",
    "w = np.random.randint(-20, 20, n)\n",
    "#v = np.array([-8, -1, 1, 8])\n",
    "#w = np.array([ -9,  16, -20, -12])"
   ]
  },
  {
   "cell_type": "markdown",
   "metadata": {},
   "source": [
    "We now pick a range of $\\alpha$ and compute and plot the $l_1$-norm."
   ]
  },
  {
   "cell_type": "code",
   "execution_count": 3,
   "metadata": {},
   "outputs": [],
   "source": [
    "alpha = np.arange(-5, 5, .05)\n",
    "l1_norm = list(map(lambda a: np.linalg.norm(a*v - w, 1), alpha))"
   ]
  },
  {
   "cell_type": "code",
   "execution_count": 4,
   "metadata": {},
   "outputs": [
    {
     "data": {
      "image/png": "[encoded data removed]",
      "text/plain": [
       "<Figure size 432x288 with 1 Axes>"
      ]
     },
     "metadata": {
      "needs_background": "light"
     },
     "output_type": "display_data"
    }
   ],
   "source": [
    "plt.plot(alpha, l1_norm)\n",
    "plt.grid(True)\n",
    "plt.title('||alpha * v - w||_1')\n",
    "plt.xlabel('alpha')\n",
    "plt.ylabel('||alpha * v - w||_1');"
   ]
  },
  {
   "cell_type": "markdown",
   "metadata": {},
   "source": [
    "Clearly for large enough $\\alpha$, the function is increasing and linear. In fact, the function has the slope $\\|v\\|_1$ for large positive $\\alpha$. This is true because for large positive $\\alpha$, the term \n",
    "$\\alpha v_i - w_i$ has the same sign as the sign of $v_i$. Hence in this case, the net coefficient of $\\alpha$ in the smmation $\\sum_{i=1}^{n} |\\alpha v_i - w_i|$ is $\\|v\\|_1$. Similarly, for sufficiently negative $\\alpha$, the functon is decreasing, linear and has slope $-\\|v\\|_1$. The slope of the norm changes from $-\\|v\\|_1$ to $\\|v\\|_1$, therefore, the function must have a minimum in between. \n",
    "\n",
    "The simplest case to solve is when $n=1$. This one dimentional problem is trivial. The function $\\|\\alpha v - w\\|_1$ has a minimum at $\\alpha^* = \\frac{w}{v}$. For $n=2$, the function $\\|\\alpha v - w\\|_1$ has a minimum contained in the interval formed by the minimum and the maximum of the set $\\{w_1/v_1, w_2/v_2\\}$. \n",
    "\n",
    "The general solution can now be outlined. Find the numbers $a$ and $b$, such that:\n",
    "\n",
    "\\begin{align}\n",
    "a &= \\min \\{w_i/v_i: v_i \\neq 0, i = 1, 2, \\ldots, n\\},\\\\\n",
    "b &= \\max \\{w_i/v_i: v_i \\neq 0, i = 1, 2, \\ldots, n\\}.\n",
    "\\end{align}\n",
    "\n",
    "The minimum of the $l_1$-norm lies in the interval $[a, b]$."
   ]
  },
  {
   "cell_type": "code",
   "execution_count": 5,
   "metadata": {},
   "outputs": [
    {
     "data": {
      "text/plain": [
       "[-2.3333333333333335, 3.0]"
      ]
     },
     "execution_count": 5,
     "metadata": {},
     "output_type": "execute_result"
    }
   ],
   "source": [
    "roots = [w_i/v_i for (w_i, v_i) in zip(w, v) if v_i != 0]\n",
    "a = np.min(roots)\n",
    "b = np.max(roots)\n",
    "[a, b]"
   ]
  },
  {
   "cell_type": "markdown",
   "metadata": {},
   "source": [
    "To find the minimum, we argue as follows. The function defining the $l_1$ norm is a sum of absolute value functions, hence continuous and piecewise differentiable. The minimum must lie on one of the _boundary_ points:\n",
    "\n",
    "$$\\alpha^{*} = argmin \\{\\|\\alpha v - w\\|_1\\big{|}_{\\alpha = w_i/v_i}: i = 1, 2, \\ldots, n \\}.$$\n"
   ]
  },
  {
   "cell_type": "code",
   "execution_count": 6,
   "metadata": {},
   "outputs": [
    {
     "data": {
      "text/plain": [
       "[-2.3333333333333335,\n",
       " -1.3,\n",
       " -0.5294117647058824,\n",
       " -0.21428571428571427,\n",
       " -0.18181818181818182,\n",
       " 0.125,\n",
       " 0.25,\n",
       " 0.3,\n",
       " 0.3333333333333333,\n",
       " 0.4166666666666667,\n",
       " 0.42105263157894735,\n",
       " 0.7894736842105263,\n",
       " 0.8235294117647058,\n",
       " 1.0555555555555556,\n",
       " 1.2142857142857142,\n",
       " 1.4444444444444444,\n",
       " 1.9,\n",
       " 2.0,\n",
       " 2.4285714285714284,\n",
       " 3.0]"
      ]
     },
     "execution_count": 6,
     "metadata": {},
     "output_type": "execute_result"
    }
   ],
   "source": [
    "critical_points = sorted(roots)\n",
    "critical_points"
   ]
  },
  {
   "cell_type": "code",
   "execution_count": 7,
   "metadata": {},
   "outputs": [
    {
     "data": {
      "text/plain": [
       "[671.0,\n",
       " 438.49999999999994,\n",
       " 280.52941176470586,\n",
       " 226.64285714285714,\n",
       " 222.0,\n",
       " 184.875,\n",
       " 171.75,\n",
       " 168.1,\n",
       " 167.0,\n",
       " 164.75,\n",
       " 164.73684210526315,\n",
       " 177.63157894736844,\n",
       " 180.11764705882354,\n",
       " 204.94444444444446,\n",
       " 227.64285714285714,\n",
       " 267.0,\n",
       " 353.1000000000001,\n",
       " 374.0,\n",
       " 464.4285714285714,\n",
       " 593.0]"
      ]
     },
     "execution_count": 7,
     "metadata": {},
     "output_type": "execute_result"
    }
   ],
   "source": [
    "norm_values = list(map(lambda a: np.linalg.norm(a*v - w, 1), critical_points))\n",
    "norm_values"
   ]
  },
  {
   "cell_type": "code",
   "execution_count": 8,
   "metadata": {},
   "outputs": [
    {
     "data": {
      "text/plain": [
       "(0.42105263157894735, 164.73684210526315)"
      ]
     },
     "execution_count": 8,
     "metadata": {},
     "output_type": "execute_result"
    }
   ],
   "source": [
    "alpha_star = critical_points[np.argmin(norm_values)]\n",
    "f_min = norm_values[np.argmin(norm_values)]\n",
    "(alpha_star, f_min)"
   ]
  },
  {
   "cell_type": "code",
   "execution_count": 9,
   "metadata": {},
   "outputs": [
    {
     "data": {
      "image/png": "[encoded data removed]",
      "text/plain": [
       "<Figure size 432x288 with 1 Axes>"
      ]
     },
     "metadata": {
      "needs_background": "light"
     },
     "output_type": "display_data"
    }
   ],
   "source": [
    "plt.plot(alpha, l1_norm)\n",
    "plt.plot(alpha_star, f_min, 'r*')\n",
    "plt.grid(True)\n",
    "plt.title('||alpha * v - w||_1')\n",
    "plt.xlabel('alpha')\n",
    "plt.ylabel('||alpha * v - w||_1');\n",
    "plt.plot();"
   ]
  },
  {
   "cell_type": "code",
   "execution_count": null,
   "metadata": {},
   "outputs": [],
   "source": []
  }
 ],
 "metadata": {
  "kernelspec": {
   "display_name": "Python 3",
   "language": "python",
   "name": "python3"
  },
  "language_info": {
   "codemirror_mode": {
    "name": "ipython",
    "version": 3
   },
   "file_extension": ".py",
   "mimetype": "text/x-python",
   "name": "python",
   "nbconvert_exporter": "python",
   "pygments_lexer": "ipython3",
   "version": "3.7.2"
  }
 },
 "nbformat": 4,
 "nbformat_minor": 2
}
