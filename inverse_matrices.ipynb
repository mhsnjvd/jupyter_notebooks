{
 "cells": [
  {
   "cell_type": "code",
   "execution_count": 119,
   "metadata": {
    "scrolled": true
   },
   "outputs": [
    {
     "data": {
      "text/plain": [
       "(array([[0., 0., 0.],\n",
       "        [0., 0., 0.],\n",
       "        [0., 0., 0.]]),\n",
       " (array([9.11483979, 2.36854145, 3.69359883]),\n",
       "  array([[-0.11392006,  0.75357915, -0.64741075],\n",
       "         [-0.42055885,  0.55380766,  0.71862878],\n",
       "         [-0.9000847 , -0.35414056, -0.25383458]])),\n",
       " array([[1, 0, 0, 0, 0],\n",
       "        [0, 3, 0, 0, 0],\n",
       "        [0, 0, 2, 0, 0],\n",
       "        [0, 0, 0, 1, 0],\n",
       "        [0, 0, 0, 0, 3]]))"
      ]
     },
     "execution_count": 119,
     "metadata": {},
     "output_type": "execute_result"
    }
   ],
   "source": [
    "import numpy as np\n",
    "n = 5\n",
    "k = 3\n",
    "I = np.eye(n)\n",
    "F = np.random.randn(n, k)\n",
    "d = np.random.randint(1, n, n)\n",
    "D = np.diag(d)\n",
    "Dinv = np.diag(1/d)\n",
    "A = np.random.rand(k, k) + k * np.eye(k)\n",
    "V = F.T@F\n",
    "assert np.max(np.abs(D @ Dinv - I)) < 1e-14\n",
    "V - V.T, np.linalg.eig(V), D"
   ]
  },
  {
   "cell_type": "code",
   "execution_count": 120,
   "metadata": {},
   "outputs": [
    {
     "data": {
      "text/plain": [
       "array([[ 20.01905909, -30.77034238,  -0.74027883,   1.82033924,\n",
       "         10.02443334],\n",
       "       [-30.77034238,  65.69390128,  -4.13115395,  -3.17922852,\n",
       "         -7.22704878],\n",
       "       [ -0.74027883,  -4.13115395,   3.51084158,  -2.85902807,\n",
       "         -2.89298668],\n",
       "       [  1.82033924,  -3.17922852,  -2.85902807,   4.43538873,\n",
       "          1.00550986],\n",
       "       [ 10.02443334,  -7.22704878,  -2.89298668,   1.00550986,\n",
       "          8.67377459]])"
      ]
     },
     "execution_count": 120,
     "metadata": {},
     "output_type": "execute_result"
    }
   ],
   "source": [
    "F @ V @ F.T"
   ]
  },
  {
   "cell_type": "code",
   "execution_count": 121,
   "metadata": {},
   "outputs": [
    {
     "data": {
      "text/plain": [
       "array([[ 20.01905909, -30.77034238,  -0.74027883,   1.82033924,\n",
       "         10.02443334],\n",
       "       [-30.77034238,  65.69390128,  -4.13115395,  -3.17922852,\n",
       "         -7.22704878],\n",
       "       [ -0.74027883,  -4.13115395,   3.51084158,  -2.85902807,\n",
       "         -2.89298668],\n",
       "       [  1.82033924,  -3.17922852,  -2.85902807,   4.43538873,\n",
       "          1.00550986],\n",
       "       [ 10.02443334,  -7.22704878,  -2.89298668,   1.00550986,\n",
       "          8.67377459]])"
      ]
     },
     "execution_count": 121,
     "metadata": {},
     "output_type": "execute_result"
    }
   ],
   "source": [
    "FVFt = F @ V @ F.T\n",
    "FVFtinv = F @ np.linalg.inv(V) @ F.T\n",
    "FVFt @ FVFtinv"
   ]
  },
  {
   "cell_type": "code",
   "execution_count": 113,
   "metadata": {
    "scrolled": true
   },
   "outputs": [
    {
     "data": {
      "text/plain": [
       "array([[ 1.00000000e+00,  3.22534194e-14, -2.71371160e-14,\n",
       "        -1.45183482e-14,  1.55145035e-14],\n",
       "       [ 3.89028828e-14,  1.00000000e+00, -4.08744531e-14,\n",
       "        -2.11043543e-14,  2.37347019e-14],\n",
       "       [-1.46848718e-14, -2.24750067e-14,  1.00000000e+00,\n",
       "         9.92108219e-15, -1.27259426e-14],\n",
       "       [-3.16773996e-15, -5.36685730e-15,  4.23734691e-15,\n",
       "         1.00000000e+00, -3.07522181e-15],\n",
       "       [ 5.01734286e-15,  7.71582883e-15, -6.54936696e-15,\n",
       "        -3.11834206e-15,  1.00000000e+00]])"
      ]
     },
     "execution_count": 113,
     "metadata": {},
     "output_type": "execute_result"
    }
   ],
   "source": [
    "Q = Dinv @ (I - FVFt @ np.linalg.inv(I + Dinv @ FVFt) @ Dinv)\n",
    "Q @ (D + FVFt)"
   ]
  },
  {
   "cell_type": "code",
   "execution_count": 114,
   "metadata": {},
   "outputs": [
    {
     "data": {
      "text/plain": [
       "65.89795799682074"
      ]
     },
     "execution_count": 114,
     "metadata": {},
     "output_type": "execute_result"
    }
   ],
   "source": [
    "P = FVFt + D\n",
    "np.linalg.cond(P)"
   ]
  },
  {
   "cell_type": "code",
   "execution_count": null,
   "metadata": {},
   "outputs": [],
   "source": []
  }
 ],
 "metadata": {
  "kernelspec": {
   "display_name": "Python 3",
   "language": "python",
   "name": "python3"
  },
  "language_info": {
   "codemirror_mode": {
    "name": "ipython",
    "version": 3
   },
   "file_extension": ".py",
   "mimetype": "text/x-python",
   "name": "python",
   "nbconvert_exporter": "python",
   "pygments_lexer": "ipython3",
   "version": "3.7.3"
  }
 },
 "nbformat": 4,
 "nbformat_minor": 2
}
