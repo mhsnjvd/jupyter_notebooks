{
 "cells": [
  {
   "cell_type": "markdown",
   "metadata": {},
   "source": [
    "### Demeaning then smoothing or the other way round?\n",
    "\n",
    "Mohsin Javed, June 9, 2020"
   ]
  },
  {
   "cell_type": "code",
   "execution_count": 3,
   "metadata": {
    "scrolled": true
   },
   "outputs": [],
   "source": [
    "import matplotlib.pyplot as plt\n",
    "import numpy as np\n",
    "import pandas as pd\n",
    "FS = (10, 8)"
   ]
  },
  {
   "cell_type": "markdown",
   "metadata": {},
   "source": [
    "Given a time series $x_t$, and window lengths $M, N$, we want to understand the difference between the following two procedures.\n",
    "\n",
    "1. First demean $x_t$ using an $M$-point moving average and then take an $N$-point moving average to smooth the result.\n",
    "2. First smooth $x_t$ by using an $N$-point moving average and then demain the result using an $M$-point moving average.\n",
    "\n",
    "To set the notation, let $x_t$ be a discrete time series of length $n$, that is, the subscript $t$ belongs to the set $\\{0, 1, \\ldots, n-1\\}$.\n",
    "\n",
    "The $M$-point moving average of $x_t$ can be described as a linear operator on $x_t$, in other words by a matrix multiplication. If $y_t$ is the $M$-point moving average of $x_t$, we have:\n",
    "\n",
    "\\begin{align*}\n",
    "y_t = A_{M} x_t,\n",
    "\\end{align*}\n",
    "\n",
    "where $A_{M}$ is $n \\times n$ banded \n",
    "matrix with ones on the top $M$ diagonals\n",
    "scaled by $1/M$. For example, if all \n",
    "our time series are of length $n=5$, then,\n",
    "\n",
    "\\begin{align*}\n",
    "A_{3} =\n",
    "\\frac{1}{3}\n",
    "\\begin{bmatrix}\n",
    "1 & 1 & 1 & 0 & 0\\\\\n",
    "0 & 1 & 1 & 1 & 0\\\\\n",
    "0 & 0 & 1 & 1 & 1\\\\\n",
    "0 & 0 & 0 & 1 & 1\\\\\n",
    "0 & 0 & 0 & 0 & 1\n",
    "\\end{bmatrix}\n",
    "\\end{align*}\n",
    "\n",
    "Note that in the case of a weighted moving average prescribed be weights $\\{w_1, w_2, \\ldots, w_M\\}$, the structure of the above matrix would remain the same, the $M$ non-uniform weights will occupy the $M$ diagonals in the matrix above and the scaling factor will by $1/\\sum_{i=1}^{M}{w_i}$\n"
   ]
  },
  {
   "cell_type": "markdown",
   "metadata": {},
   "source": [
    "With the notation above, we now consider the two cases of intesest. \n",
    "\n",
    "Let $y^{sd}_t$ be the series obtained by first demeaning and then smoothing:\n",
    "\n",
    "\\begin{align*}\n",
    "y^{sd} &= A_{N}(x_t - A_{M}x_t)\\\\\n",
    "&= A_{N}x_t - A_{N}A_{M}x_t.\n",
    "\\end{align*}\n",
    "\n",
    "On the other hand, let $y^{ds}$ be the $N$-point smoothing of $x_t$ followed be $M$-point moving \n",
    "average demeaning of the smoothened result:\n",
    "\n",
    "\\begin{align*}\n",
    "y^{ds} &= A_{N}(x_t) - A_{M}(A_{N}x_t)\\\\\n",
    "&= A_{N}x_t - A_{M}A_{N}x_t,\n",
    "\\end{align*}\n",
    "\n",
    "The difference betweent the two approaches boils down to wether $A_{N}$ and $A_{M}$\n",
    "commute or not:\n",
    "\n",
    "\\begin{align*}\n",
    "y^{sd} - y^{ds} &= A_{N}A_{M}x_t - A_{M}A_{N}x_t \\\\\n",
    "                &= (A_{N}A_{M} - A_{M}A_{N})x_t \\\\\n",
    "\\end{align*}\n",
    "\n",
    "In general, the moving average matrices do not commute:\n",
    "\n",
    "\\begin{align*}\n",
    "A_{N}A_{M} \\neq A_{M}A_{N},\n",
    "\\end{align*}\n",
    "\n",
    "however, the difference might not be significant."
   ]
  },
  {
   "cell_type": "markdown",
   "metadata": {},
   "source": [
    "The following code produces $A_M$ of size $n \\times n$:"
   ]
  },
  {
   "cell_type": "code",
   "execution_count": 4,
   "metadata": {},
   "outputs": [],
   "source": [
    "def moving_average_matrix(n, M):\n",
    "    \"\"\"Moving average matrix. Assumes that the \n",
    "    time series on which this matrix will be applied has \n",
    "    total length n to compute M point averages.\n",
    "    \n",
    "    returns a n x n matrix with non zero entries in the M diagonals\n",
    "    \"\"\"\n",
    "    assert M <= n\n",
    "    out = np.zeros((n, n))\n",
    "    \n",
    "    # 1. this method has all zeros in the last M - 1 rows\n",
    "    #  for k in range(n-M+1):\n",
    "    #   out[k, k:k+M] = np.ones(M)\n",
    "    #  return 1.0 / M * out\n",
    "\n",
    "    # 2. This method slowly builds the moving average for the first M-1 points\n",
    "    for k in range(M):\n",
    "        out = out + np.diag(np.ones(n-k), k)\n",
    "    \n",
    "    for k in range(n):\n",
    "        out[k, :] = out[k, :] / np.sum(out[k, :])\n",
    "    return out\n"
   ]
  },
  {
   "cell_type": "markdown",
   "metadata": {},
   "source": [
    "As an example, we create a $5 \\times 5$ matrix for a $3$-point average:"
   ]
  },
  {
   "cell_type": "code",
   "execution_count": 5,
   "metadata": {},
   "outputs": [
    {
     "data": {
      "text/plain": [
       "array([[0.33333333, 0.33333333, 0.33333333, 0.        , 0.        ],\n",
       "       [0.        , 0.33333333, 0.33333333, 0.33333333, 0.        ],\n",
       "       [0.        , 0.        , 0.33333333, 0.33333333, 0.33333333],\n",
       "       [0.        , 0.        , 0.        , 0.5       , 0.5       ],\n",
       "       [0.        , 0.        , 0.        , 0.        , 1.        ]])"
      ]
     },
     "execution_count": 5,
     "metadata": {},
     "output_type": "execute_result"
    }
   ],
   "source": [
    "n, M = 5, 3\n",
    "A = moving_average_matrix(n, M)\n",
    "A"
   ]
  },
  {
   "cell_type": "markdown",
   "metadata": {},
   "source": [
    "The operator $A_{M}A_{N} - A_{N}A_{M}$ is not exactly zero but quite sparse:"
   ]
  },
  {
   "cell_type": "code",
   "execution_count": 6,
   "metadata": {},
   "outputs": [],
   "source": [
    "A = lambda M: moving_average_matrix(10, M)\n",
    "D = A(6) @ A(3) - A(3) @ A(6)"
   ]
  },
  {
   "cell_type": "code",
   "execution_count": 7,
   "metadata": {},
   "outputs": [
    {
     "data": {
      "image/png": "[encoded data removed]",
      "text/plain": [
       "<Figure size 432x288 with 1 Axes>"
      ]
     },
     "metadata": {
      "needs_background": "light"
     },
     "output_type": "display_data"
    }
   ],
   "source": [
    "import scipy.sparse as sps\n",
    "Ds = sps.csr_matrix(D)\n",
    "plt.spy(Ds)\n",
    "plt.show()"
   ]
  },
  {
   "cell_type": "markdown",
   "metadata": {},
   "source": [
    "To apply the moving point average on a time series $x_t$, we just have to say:"
   ]
  },
  {
   "cell_type": "code",
   "execution_count": 9,
   "metadata": {},
   "outputs": [],
   "source": [
    "n = 100\n",
    "x = np.cumsum(np.random.randn(n))\n",
    "A = lambda M: moving_average_matrix(n, M)\n",
    "M = 10\n",
    "ma_x = np.flipud(A(M) @ np.flipud(x))"
   ]
  },
  {
   "cell_type": "markdown",
   "metadata": {},
   "source": [
    "The beginning part of the original time series and its moving average"
   ]
  },
  {
   "cell_type": "code",
   "execution_count": 15,
   "metadata": {},
   "outputs": [
    {
     "data": {
      "text/html": [
       "<div>\n",
       "<style scoped>\n",
       "    .dataframe tbody tr th:only-of-type {\n",
       "        vertical-align: middle;\n",
       "    }\n",
       "\n",
       "    .dataframe tbody tr th {\n",
       "        vertical-align: top;\n",
       "    }\n",
       "\n",
       "    .dataframe thead th {\n",
       "        text-align: right;\n",
       "    }\n",
       "</style>\n",
       "<table border=\"1\" class=\"dataframe\">\n",
       "  <thead>\n",
       "    <tr style=\"text-align: right;\">\n",
       "      <th></th>\n",
       "      <th>xt</th>\n",
       "      <th>ma_xt_10</th>\n",
       "    </tr>\n",
       "  </thead>\n",
       "  <tbody>\n",
       "    <tr>\n",
       "      <th>0</th>\n",
       "      <td>0.508284</td>\n",
       "      <td>0.508284</td>\n",
       "    </tr>\n",
       "    <tr>\n",
       "      <th>1</th>\n",
       "      <td>2.505286</td>\n",
       "      <td>1.506785</td>\n",
       "    </tr>\n",
       "    <tr>\n",
       "      <th>2</th>\n",
       "      <td>0.076895</td>\n",
       "      <td>1.030155</td>\n",
       "    </tr>\n",
       "    <tr>\n",
       "      <th>3</th>\n",
       "      <td>-0.224202</td>\n",
       "      <td>0.716566</td>\n",
       "    </tr>\n",
       "    <tr>\n",
       "      <th>4</th>\n",
       "      <td>-1.516424</td>\n",
       "      <td>0.269968</td>\n",
       "    </tr>\n",
       "    <tr>\n",
       "      <th>5</th>\n",
       "      <td>-2.367339</td>\n",
       "      <td>-0.169583</td>\n",
       "    </tr>\n",
       "    <tr>\n",
       "      <th>6</th>\n",
       "      <td>-2.789468</td>\n",
       "      <td>-0.543852</td>\n",
       "    </tr>\n",
       "    <tr>\n",
       "      <th>7</th>\n",
       "      <td>-2.714422</td>\n",
       "      <td>-0.815174</td>\n",
       "    </tr>\n",
       "    <tr>\n",
       "      <th>8</th>\n",
       "      <td>-1.961446</td>\n",
       "      <td>-0.942537</td>\n",
       "    </tr>\n",
       "    <tr>\n",
       "      <th>9</th>\n",
       "      <td>0.183498</td>\n",
       "      <td>-0.829934</td>\n",
       "    </tr>\n",
       "    <tr>\n",
       "      <th>10</th>\n",
       "      <td>-1.923007</td>\n",
       "      <td>-1.073063</td>\n",
       "    </tr>\n",
       "    <tr>\n",
       "      <th>11</th>\n",
       "      <td>-1.904598</td>\n",
       "      <td>-1.514051</td>\n",
       "    </tr>\n",
       "    <tr>\n",
       "      <th>12</th>\n",
       "      <td>-1.750324</td>\n",
       "      <td>-1.696773</td>\n",
       "    </tr>\n",
       "    <tr>\n",
       "      <th>13</th>\n",
       "      <td>-1.147645</td>\n",
       "      <td>-1.789117</td>\n",
       "    </tr>\n",
       "    <tr>\n",
       "      <th>14</th>\n",
       "      <td>-1.255393</td>\n",
       "      <td>-1.763014</td>\n",
       "    </tr>\n",
       "    <tr>\n",
       "      <th>15</th>\n",
       "      <td>-1.384843</td>\n",
       "      <td>-1.664765</td>\n",
       "    </tr>\n",
       "    <tr>\n",
       "      <th>16</th>\n",
       "      <td>-0.219834</td>\n",
       "      <td>-1.407801</td>\n",
       "    </tr>\n",
       "    <tr>\n",
       "      <th>17</th>\n",
       "      <td>0.558708</td>\n",
       "      <td>-1.080488</td>\n",
       "    </tr>\n",
       "    <tr>\n",
       "      <th>18</th>\n",
       "      <td>-0.482062</td>\n",
       "      <td>-0.932550</td>\n",
       "    </tr>\n",
       "    <tr>\n",
       "      <th>19</th>\n",
       "      <td>-0.645555</td>\n",
       "      <td>-1.015455</td>\n",
       "    </tr>\n",
       "  </tbody>\n",
       "</table>\n",
       "</div>"
      ],
      "text/plain": [
       "          xt  ma_xt_10\n",
       "0   0.508284  0.508284\n",
       "1   2.505286  1.506785\n",
       "2   0.076895  1.030155\n",
       "3  -0.224202  0.716566\n",
       "4  -1.516424  0.269968\n",
       "5  -2.367339 -0.169583\n",
       "6  -2.789468 -0.543852\n",
       "7  -2.714422 -0.815174\n",
       "8  -1.961446 -0.942537\n",
       "9   0.183498 -0.829934\n",
       "10 -1.923007 -1.073063\n",
       "11 -1.904598 -1.514051\n",
       "12 -1.750324 -1.696773\n",
       "13 -1.147645 -1.789117\n",
       "14 -1.255393 -1.763014\n",
       "15 -1.384843 -1.664765\n",
       "16 -0.219834 -1.407801\n",
       "17  0.558708 -1.080488\n",
       "18 -0.482062 -0.932550\n",
       "19 -0.645555 -1.015455"
      ]
     },
     "execution_count": 15,
     "metadata": {},
     "output_type": "execute_result"
    }
   ],
   "source": [
    "df = pd.DataFrame({'xt': x, f'ma_xt_{M}': ma_x})\n",
    "df.head(M+10)"
   ]
  },
  {
   "cell_type": "markdown",
   "metadata": {},
   "source": [
    "And a plot of the two"
   ]
  },
  {
   "cell_type": "code",
   "execution_count": 16,
   "metadata": {},
   "outputs": [
    {
     "data": {
      "image/png": "[encoded data removed]",
      "text/plain": [
       "<Figure size 720x576 with 1 Axes>"
      ]
     },
     "metadata": {
      "needs_background": "light"
     },
     "output_type": "display_data"
    }
   ],
   "source": [
    "plt.figure(figsize=FS)\n",
    "plt.plot(np.arange(n), x, 'r.', np.arange(n), ma_x, 'k.-')\n",
    "plt.legend(['x', f'{M}-point MA of x'])\n",
    "plt.grid(True)"
   ]
  },
  {
   "cell_type": "markdown",
   "metadata": {},
   "source": [
    "Now let's compute $y^{sd}$ and $y^{ds}$, with demeaning window $M$ and smoothing \n",
    "window $N$."
   ]
  },
  {
   "cell_type": "code",
   "execution_count": 17,
   "metadata": {},
   "outputs": [],
   "source": [
    "MA = lambda x, M: np.flipud(moving_average_matrix(n, M) @ np.flipud(x))\n",
    "M, N = 30, 40\n",
    "ysd = MA(x - MA(x, M), N)\n",
    "yds = MA(x, N) - MA(MA(x, N), M)"
   ]
  },
  {
   "cell_type": "code",
   "execution_count": 19,
   "metadata": {},
   "outputs": [
    {
     "data": {
      "text/html": [
       "<div>\n",
       "<style scoped>\n",
       "    .dataframe tbody tr th:only-of-type {\n",
       "        vertical-align: middle;\n",
       "    }\n",
       "\n",
       "    .dataframe tbody tr th {\n",
       "        vertical-align: top;\n",
       "    }\n",
       "\n",
       "    .dataframe thead th {\n",
       "        text-align: right;\n",
       "    }\n",
       "</style>\n",
       "<table border=\"1\" class=\"dataframe\">\n",
       "  <thead>\n",
       "    <tr style=\"text-align: right;\">\n",
       "      <th></th>\n",
       "      <th>xt</th>\n",
       "      <th>ma_xt_10</th>\n",
       "      <th>ysd</th>\n",
       "      <th>yds</th>\n",
       "    </tr>\n",
       "  </thead>\n",
       "  <tbody>\n",
       "    <tr>\n",
       "      <th>0</th>\n",
       "      <td>0.508284</td>\n",
       "      <td>0.508284</td>\n",
       "      <td>0.000000</td>\n",
       "      <td>0.000000</td>\n",
       "    </tr>\n",
       "    <tr>\n",
       "      <th>1</th>\n",
       "      <td>2.505286</td>\n",
       "      <td>1.506785</td>\n",
       "      <td>0.499250</td>\n",
       "      <td>0.499250</td>\n",
       "    </tr>\n",
       "    <tr>\n",
       "      <th>2</th>\n",
       "      <td>0.076895</td>\n",
       "      <td>1.030155</td>\n",
       "      <td>0.015080</td>\n",
       "      <td>0.015080</td>\n",
       "    </tr>\n",
       "    <tr>\n",
       "      <th>3</th>\n",
       "      <td>-0.224202</td>\n",
       "      <td>0.716566</td>\n",
       "      <td>-0.223882</td>\n",
       "      <td>-0.223882</td>\n",
       "    </tr>\n",
       "    <tr>\n",
       "      <th>4</th>\n",
       "      <td>-1.516424</td>\n",
       "      <td>0.269968</td>\n",
       "      <td>-0.536384</td>\n",
       "      <td>-0.536384</td>\n",
       "    </tr>\n",
       "    <tr>\n",
       "      <th>...</th>\n",
       "      <td>...</td>\n",
       "      <td>...</td>\n",
       "      <td>...</td>\n",
       "      <td>...</td>\n",
       "    </tr>\n",
       "    <tr>\n",
       "      <th>95</th>\n",
       "      <td>3.077440</td>\n",
       "      <td>5.992403</td>\n",
       "      <td>2.163068</td>\n",
       "      <td>2.163068</td>\n",
       "    </tr>\n",
       "    <tr>\n",
       "      <th>96</th>\n",
       "      <td>2.996011</td>\n",
       "      <td>5.369883</td>\n",
       "      <td>1.972277</td>\n",
       "      <td>1.972277</td>\n",
       "    </tr>\n",
       "    <tr>\n",
       "      <th>97</th>\n",
       "      <td>2.031795</td>\n",
       "      <td>4.661268</td>\n",
       "      <td>1.790567</td>\n",
       "      <td>1.790567</td>\n",
       "    </tr>\n",
       "    <tr>\n",
       "      <th>98</th>\n",
       "      <td>2.724105</td>\n",
       "      <td>4.201469</td>\n",
       "      <td>1.662371</td>\n",
       "      <td>1.662371</td>\n",
       "    </tr>\n",
       "    <tr>\n",
       "      <th>99</th>\n",
       "      <td>1.882081</td>\n",
       "      <td>3.742710</td>\n",
       "      <td>1.529957</td>\n",
       "      <td>1.529957</td>\n",
       "    </tr>\n",
       "  </tbody>\n",
       "</table>\n",
       "<p>100 rows × 4 columns</p>\n",
       "</div>"
      ],
      "text/plain": [
       "          xt  ma_xt_10       ysd       yds\n",
       "0   0.508284  0.508284  0.000000  0.000000\n",
       "1   2.505286  1.506785  0.499250  0.499250\n",
       "2   0.076895  1.030155  0.015080  0.015080\n",
       "3  -0.224202  0.716566 -0.223882 -0.223882\n",
       "4  -1.516424  0.269968 -0.536384 -0.536384\n",
       "..       ...       ...       ...       ...\n",
       "95  3.077440  5.992403  2.163068  2.163068\n",
       "96  2.996011  5.369883  1.972277  1.972277\n",
       "97  2.031795  4.661268  1.790567  1.790567\n",
       "98  2.724105  4.201469  1.662371  1.662371\n",
       "99  1.882081  3.742710  1.529957  1.529957\n",
       "\n",
       "[100 rows x 4 columns]"
      ]
     },
     "execution_count": 19,
     "metadata": {},
     "output_type": "execute_result"
    }
   ],
   "source": [
    "df['ysd'] = ysd\n",
    "df['yds'] = yds\n",
    "df"
   ]
  },
  {
   "cell_type": "code",
   "execution_count": 11,
   "metadata": {},
   "outputs": [
    {
     "data": {
      "image/png": "[encoded data removed]",
      "text/plain": [
       "<Figure size 720x576 with 1 Axes>"
      ]
     },
     "metadata": {
      "needs_background": "light"
     },
     "output_type": "display_data"
    }
   ],
   "source": [
    "plt.figure(figsize=FS)\n",
    "plt.plot(np.arange(n), ysd, 'r-.', np.arange(n), yds, 'b-o')\n",
    "plt.legend(['ysd', 'yds'])\n",
    "plt.grid(True)"
   ]
  },
  {
   "cell_type": "markdown",
   "metadata": {},
   "source": [
    "Let's also look at the difference"
   ]
  },
  {
   "cell_type": "code",
   "execution_count": 12,
   "metadata": {},
   "outputs": [
    {
     "data": {
      "text/plain": [
       "Text(0.5, 1.0, 'ysd - yds')"
      ]
     },
     "execution_count": 12,
     "metadata": {},
     "output_type": "execute_result"
    },
    {
     "data": {
      "image/png": "[encoded data removed]",
      "text/plain": [
       "<Figure size 720x576 with 1 Axes>"
      ]
     },
     "metadata": {
      "needs_background": "light"
     },
     "output_type": "display_data"
    }
   ],
   "source": [
    "plt.figure(figsize=FS)\n",
    "plt.plot(np.arange(n), ysd - yds, '.')\n",
    "plt.grid(True)\n",
    "plt.title('ysd - yds')"
   ]
  },
  {
   "cell_type": "code",
   "execution_count": 13,
   "metadata": {},
   "outputs": [
    {
     "data": {
      "text/plain": [
       "array([False, False, False, False, False, False, False, False, False,\n",
       "       False, False, False, False, False, False, False, False, False,\n",
       "       False, False, False, False, False, False, False, False, False,\n",
       "       False, False, False,  True,  True,  True,  True,  True,  True,\n",
       "        True,  True,  True,  True,  True,  True,  True,  True,  True,\n",
       "        True,  True,  True,  True,  True,  True,  True,  True,  True,\n",
       "        True,  True,  True,  True,  True,  True,  True,  True,  True,\n",
       "        True,  True,  True,  True,  True, False, False, False, False,\n",
       "       False, False, False, False, False, False, False, False, False,\n",
       "       False, False, False, False, False, False, False, False, False,\n",
       "       False, False, False, False, False, False, False, False, False,\n",
       "       False])"
      ]
     },
     "execution_count": 13,
     "metadata": {},
     "output_type": "execute_result"
    }
   ],
   "source": [
    "np.abs(ysd - yds) > 1e-10"
   ]
  },
  {
   "cell_type": "markdown",
   "metadata": {},
   "source": [
    "It's quite interesting to see the operator $A_{M}A_{N} - A_{N}A_{M}$. It's largely sparse, with\n",
    "very few entries contrubuting to the difference. "
   ]
  },
  {
   "cell_type": "code",
   "execution_count": 14,
   "metadata": {},
   "outputs": [
    {
     "data": {
      "image/png": "[encoded data removed]",
      "text/plain": [
       "<Figure size 432x288 with 1 Axes>"
      ]
     },
     "metadata": {
      "needs_background": "light"
     },
     "output_type": "display_data"
    }
   ],
   "source": [
    "A = lambda M: moving_average_matrix(len(x), M)\n",
    "D = A(M)@A(N) - A(N)@A(M)\n",
    "Ds = sps.csr_matrix(D)\n",
    "plt.spy(Ds)\n",
    "plt.show()"
   ]
  },
  {
   "cell_type": "code",
   "execution_count": null,
   "metadata": {},
   "outputs": [],
   "source": []
  },
  {
   "cell_type": "code",
   "execution_count": null,
   "metadata": {},
   "outputs": [],
   "source": []
  }
 ],
 "metadata": {
  "kernelspec": {
   "display_name": "Python 3",
   "language": "python",
   "name": "python3"
  }
 },
 "nbformat": 4,
 "nbformat_minor": 2
}
