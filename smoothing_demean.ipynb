{
 "cells": [
  {
   "cell_type": "code",
   "execution_count": 3,
   "metadata": {
    "scrolled": true
   },
   "outputs": [],
   "source": [
    "import matplotlib.pyplot as plt\n",
    "import numpy as np\n",
    "import pandas as pd\n",
    "FS = (10, 8)"
   ]
  },
  {
   "cell_type": "markdown",
   "metadata": {},
   "source": [
    "### Demeaning then smoothing or the other way round?\n",
    "Give a time series $x_t$, and window lengths $M, N$, we want to understand the difference between the following two procedures.\n",
    "\n",
    "1. First demean $x_t$ using an $M$-point moving average and then take an $N$-point moving average to smooth the result.\n",
    "2. First smooth $x_t$ by using an $N$-point moving average and then demain the result using an $M$-point moving average.\n",
    "\n",
    "To set the notation, let $x_t$ be a discrete time series of length $n$, that is the subscript $t$ belongs to the set $\\{0, 1, \\ldots, n-1\\}$.\n",
    "\n",
    "The $M$-point moving average of $x_t$ can be described as a linear operator on $x_t$, in other words by a matrix multiplication. If $y_t$ is the $M$-point moving average of $x_t$, we have:\n",
    "\n",
    "\\begin{align*}\n",
    "y_t = A_{M} x_t,\n",
    "\\end{align*}\n",
    "\n",
    "where $A_{M}$ is $n \\times n$ banded \n",
    "matrix with ones on the top $M$ diagonals\n",
    "scaled by $1/M$. For example, if all \n",
    "our time series are of lenght $n=5$, then,\n",
    "\n",
    "\\begin{align*}\n",
    "A_{3} =\n",
    "\\frac{1}{3}\n",
    "\\begin{bmatrix}\n",
    "1 & 1 & 1 & 0 & 0\\\\\n",
    "0 & 1 & 1 & 1 & 0\\\\\n",
    "0 & 0 & 1 & 1 & 1\\\\\n",
    "0 & 0 & 0 & 1 & 1\\\\\n",
    "0 & 0 & 0 & 0 & 1\n",
    "\\end{bmatrix}\n",
    "\\end{align*}\n",
    "\n",
    "Note that instead of a weighted moving average, the structure of the above matrix would remain the same, the weights will occupy the non-zero entries in the matrix above. \n"
   ]
  },
  {
   "cell_type": "markdown",
   "metadata": {},
   "source": [
    "With the notation above, let $y^{sd}_t$ be the series obtained by first demeaning and then smoothing:\n",
    "\n",
    "\\begin{align*}\n",
    "y^{sd} &= A_{N}(x_t - A_{M}x_t)\\\\\n",
    "&= A_{N}x_t - A_{N}A_{M}x_t,\n",
    "\\end{align*}\n",
    "\n",
    "while $y^{ds}$, which is $N$-point smoothing of $x_t$ followed be $M$-point moving \n",
    "average demeaning of the smoothened result, is given by\n",
    "\n",
    "\\begin{align*}\n",
    "y^{ds} &= A_{N}(x_t) - A_{M}(A_{N}x_t)\\\\\n",
    "&= A_{N}x_t - A_{M}A_{N}x_t,\n",
    "\\end{align*}\n",
    "\n",
    "The difference betweent the two approaches boils down to wether $A_{N}$ and $A_{M}$\n",
    "commute or not:\n",
    "\n",
    "\\begin{align*}\n",
    "y^{sd} - y^{ds} &= A_{N}A_{M}x_t - A_{M}A_{N}x_t \\\\\n",
    "                &= (A_{N}A_{M} - A_{M}A_{N})x_t \\\\\n",
    "\\end{align*}\n",
    "\n",
    "In general, the moving average matrices do not commute:\n",
    "\n",
    "\\begin{align*}\n",
    "A_{N}A_{M} \\neq A_{M}A_{N}\n",
    "\\end{align*}"
   ]
  },
  {
   "cell_type": "markdown",
   "metadata": {},
   "source": [
    "The following code produces $A_M$ of size $n \\times n$:"
   ]
  },
  {
   "cell_type": "code",
   "execution_count": 7,
   "metadata": {},
   "outputs": [],
   "source": [
    "def moving_average_matrix(n, M):\n",
    "    \"\"\"Moving average matrix. Assumes that the \n",
    "    time series on which this matrix will be applied has \n",
    "    total length n to compute M point averages.\n",
    "    \n",
    "    returns a n x n matrix with non zero entries in the M diagonals\n",
    "    \"\"\"\n",
    "    assert M <= n\n",
    "    out = np.zeros((n, n))\n",
    "    \n",
    "    # 1. this method has all zeros in the last M - 1 rows\n",
    "    #  for k in range(n-M+1):\n",
    "    #   out[k, k:k+M] = np.ones(M)\n",
    "    #  return 1.0 / M * out\n",
    "\n",
    "    # 2. This method slowly builds the moving average for the first M-1 points\n",
    "    for k in range(M):\n",
    "        out = out + np.diag(np.ones(n-k), k)\n",
    "    \n",
    "    for k in range(n):\n",
    "        out[k, :] = out[k, :] / np.sum(out[k, :])\n",
    "    return out\n"
   ]
  },
  {
   "cell_type": "markdown",
   "metadata": {},
   "source": [
    "As an example, we create a $5 \\times 5$ matrix for a $3$-point average:"
   ]
  },
  {
   "cell_type": "code",
   "execution_count": 9,
   "metadata": {},
   "outputs": [
    {
     "data": {
      "text/plain": [
       "array([[0.33333333, 0.33333333, 0.33333333, 0.        , 0.        ],\n",
       "       [0.        , 0.33333333, 0.33333333, 0.33333333, 0.        ],\n",
       "       [0.        , 0.        , 0.33333333, 0.33333333, 0.33333333],\n",
       "       [0.        , 0.        , 0.        , 0.5       , 0.5       ],\n",
       "       [0.        , 0.        , 0.        , 0.        , 1.        ]])"
      ]
     },
     "execution_count": 9,
     "metadata": {},
     "output_type": "execute_result"
    }
   ],
   "source": [
    "n, M = 5, 3\n",
    "A = moving_average_matrix(n, M)\n",
    "A"
   ]
  },
  {
   "cell_type": "markdown",
   "metadata": {},
   "source": [
    "The operator $A_{M}A_{N} - A_{N}A_{M}$ is not exactly zero but quite sparse:"
   ]
  },
  {
   "cell_type": "code",
   "execution_count": 91,
   "metadata": {},
   "outputs": [],
   "source": [
    "A = lambda M: moving_average_matrix(10, M)\n",
    "D = A(6) @ A(3) - A(3) @ A(6)"
   ]
  },
  {
   "cell_type": "code",
   "execution_count": 94,
   "metadata": {},
   "outputs": [
    {
     "data": {
      "image/png": "[encoded data removed]",
      "text/plain": [
       "<Figure size 432x288 with 1 Axes>"
      ]
     },
     "metadata": {
      "needs_background": "light"
     },
     "output_type": "display_data"
    }
   ],
   "source": [
    "import scipy.sparse as sps\n",
    "Ds = sps.csr_matrix(D)\n",
    "plt.spy(Ds)\n",
    "plt.show()"
   ]
  },
  {
   "cell_type": "markdown",
   "metadata": {},
   "source": [
    "To apply the moving point average on a time series $x_t$, we just have to say:"
   ]
  },
  {
   "cell_type": "code",
   "execution_count": 80,
   "metadata": {},
   "outputs": [],
   "source": [
    "n = 100\n",
    "x = np.cumsum(np.random.randn(n))\n",
    "A = lambda M: moving_average_matrix(n, M)\n",
    "M = 10\n",
    "ma_x = np.flipud(A(M) @ np.flipud(x))"
   ]
  },
  {
   "cell_type": "markdown",
   "metadata": {},
   "source": [
    "The original time series and its moving average"
   ]
  },
  {
   "cell_type": "code",
   "execution_count": 81,
   "metadata": {},
   "outputs": [
    {
     "data": {
      "text/plain": [
       "(array([-0.57024453, -1.12919751, -0.52539852, -0.73204579, -1.62523122,\n",
       "        -0.97526384, -2.34991357, -1.34638643, -2.72864145, -2.33115081,\n",
       "        -4.36644832, -4.71687347, -2.84990678, -2.72607952, -2.64492266,\n",
       "        -1.56559314, -3.08074312, -3.53939619, -4.35438364, -4.64943528,\n",
       "        -4.08082687, -3.61062102, -4.94939501, -3.8441216 , -2.83827545,\n",
       "        -2.28290643, -2.7657129 , -1.67393723, -2.35009028, -0.47301348,\n",
       "         0.23921957, -0.16372768, -0.53188004,  0.58786014, -0.07248222,\n",
       "        -0.91891821, -0.28475358, -0.4455114 , -0.82085316, -1.66525499,\n",
       "        -1.98229546, -1.02455745, -0.99940694, -0.40656205, -0.86116795,\n",
       "        -3.00729071, -4.7394836 , -4.81009694, -3.11158697, -2.28244403,\n",
       "        -2.70891769, -2.36014052, -2.66571912, -0.51906272, -1.39456024,\n",
       "        -1.73027346, -0.63437927, -0.66737753,  0.21069405,  1.23311324,\n",
       "         1.68419366,  1.27550706,  0.56184121,  3.16389261,  3.94175668,\n",
       "         4.55387813,  3.95398826,  5.77995926,  5.35513132,  5.62095287,\n",
       "         6.05334518,  4.0032266 ,  3.82629431,  4.44582278,  4.24564557,\n",
       "         3.77287811,  2.8234987 ,  2.96281124,  1.58520869,  3.22161005,\n",
       "         3.96293065,  3.45559061,  2.49398595,  3.84274196,  3.52508169,\n",
       "         3.18641438,  0.76292126,  1.51735839,  0.90471398,  1.09554409,\n",
       "         2.6612235 ,  3.06717595,  2.64266657,  3.5044585 ,  4.71250284,\n",
       "         4.43666115,  3.6955962 ,  4.94682255,  6.02638149,  5.39311264]),\n",
       " array([-5.70244526e-01, -8.49721016e-01, -7.41613518e-01, -7.39221587e-01,\n",
       "        -9.16423514e-01, -9.26230235e-01, -1.12961357e+00, -1.15671018e+00,\n",
       "        -1.33136921e+00, -1.43134737e+00, -1.81096775e+00, -2.16973534e+00,\n",
       "        -2.40218617e+00, -2.60158954e+00, -2.70355869e+00, -2.76259162e+00,\n",
       "        -2.83567457e+00, -3.05497555e+00, -3.21754977e+00, -3.44937821e+00,\n",
       "        -3.42081607e+00, -3.31019082e+00, -3.52013964e+00, -3.63194385e+00,\n",
       "        -3.65127913e+00, -3.72301046e+00, -3.69150744e+00, -3.50496154e+00,\n",
       "        -3.30453221e+00, -2.88689003e+00, -2.45488538e+00, -2.11019605e+00,\n",
       "        -1.66844455e+00, -1.22524638e+00, -9.48667055e-01, -8.12268233e-01,\n",
       "        -5.64172301e-01, -4.41329718e-01, -2.88406007e-01, -4.07630158e-01,\n",
       "        -6.29781661e-01, -7.15864638e-01, -7.62617329e-01, -8.62059549e-01,\n",
       "        -9.40928122e-01, -1.14976537e+00, -1.59523837e+00, -2.03169693e+00,\n",
       "        -2.26077031e+00, -2.32248921e+00, -2.39515143e+00, -2.52870974e+00,\n",
       "        -2.69534096e+00, -2.70659103e+00, -2.75993025e+00, -2.63222853e+00,\n",
       "        -2.22171810e+00, -1.80744615e+00, -1.47521805e+00, -1.12366233e+00,\n",
       "        -6.84351192e-01, -3.20786433e-01,  1.96959948e-03,  3.70265132e-01,\n",
       "         9.03896823e-01,  1.53231198e+00,  1.99114874e+00,  2.63588241e+00,\n",
       "         3.15032614e+00,  3.58911011e+00,  4.02602526e+00,  4.29879721e+00,\n",
       "         4.62524252e+00,  4.75343554e+00,  4.78382443e+00,  4.70572443e+00,\n",
       "         4.59267547e+00,  4.31096067e+00,  3.93396841e+00,  3.69403413e+00,\n",
       "         3.48499267e+00,  3.43022907e+00,  3.29699824e+00,  3.23669016e+00,\n",
       "         3.16463377e+00,  3.10598739e+00,  2.89992965e+00,  2.75538436e+00,\n",
       "         2.68733489e+00,  2.47472830e+00,  2.34455758e+00,  2.30571611e+00,\n",
       "         2.32058418e+00,  2.28675583e+00,  2.40549794e+00,  2.53052262e+00,\n",
       "         2.82379012e+00,  3.16673653e+00,  3.67890328e+00,  4.10866014e+00]))"
      ]
     },
     "execution_count": 81,
     "metadata": {},
     "output_type": "execute_result"
    }
   ],
   "source": [
    "x, ma_x"
   ]
  },
  {
   "cell_type": "markdown",
   "metadata": {},
   "source": [
    "And a plot of the two"
   ]
  },
  {
   "cell_type": "code",
   "execution_count": 82,
   "metadata": {},
   "outputs": [
    {
     "data": {
      "image/png": "[encoded data removed]",
      "text/plain": [
       "<Figure size 720x576 with 1 Axes>"
      ]
     },
     "metadata": {
      "needs_background": "light"
     },
     "output_type": "display_data"
    }
   ],
   "source": [
    "plt.figure(figsize=FS)\n",
    "plt.plot(np.arange(n), x, 'r.', np.arange(n), ma_x, 'k.-')\n",
    "plt.legend(['x', f'{M}-point MA of x'])\n",
    "plt.grid(True)"
   ]
  },
  {
   "cell_type": "markdown",
   "metadata": {},
   "source": [
    "Now let's compute $y^{sd}$ and $y^{ds}$, with demeaning window $M$ and smoothing \n",
    "window $N$."
   ]
  },
  {
   "cell_type": "code",
   "execution_count": 83,
   "metadata": {},
   "outputs": [],
   "source": [
    "MA = lambda x, M: np.flipud(moving_average_matrix(n, M) @ np.flipud(x))\n",
    "M, N = 30, 40\n",
    "ysd = MA(x - MA(x, M), N)\n",
    "yds = MA(x, N) - MA(MA(x, N), M)"
   ]
  },
  {
   "cell_type": "code",
   "execution_count": 84,
   "metadata": {},
   "outputs": [
    {
     "data": {
      "text/plain": [
       "(array([ 0.00000000e+00, -1.39738245e-01, -2.10871645e-02, -1.40214251e-02,\n",
       "        -1.52978681e-01, -1.35654502e-01, -2.90603859e-01, -2.77987909e-01,\n",
       "        -4.02352834e-01, -4.52097896e-01, -6.53568414e-01, -8.29699423e-01,\n",
       "        -8.29794058e-01, -8.17422704e-01, -7.98732904e-01, -7.17039413e-01,\n",
       "        -7.30599698e-01, -7.63793833e-01, -8.30451412e-01, -8.99382466e-01,\n",
       "        -9.30952193e-01, -9.36022462e-01, -9.94357944e-01, -9.99743548e-01,\n",
       "        -9.64276030e-01, -9.10830747e-01, -8.79147212e-01, -8.12056738e-01,\n",
       "        -7.73293159e-01, -6.76976996e-01, -5.64769911e-01, -4.73173568e-01,\n",
       "        -3.98278104e-01, -2.96148746e-01, -2.20201085e-01, -1.72037021e-01,\n",
       "        -1.11197339e-01, -5.85804567e-02, -1.99166118e-02, -4.85091801e-03,\n",
       "        -1.95945267e-04,  3.23124599e-02,  5.15152574e-02,  8.88322260e-02,\n",
       "         1.31197172e-01,  1.04616112e-01,  6.53941731e-02, -2.99775849e-04,\n",
       "         5.62326014e-03,  1.78656572e-02,  6.25147090e-02,  1.17312796e-01,\n",
       "         1.14163084e-01,  1.57550534e-01,  1.74859466e-01,  1.57179074e-01,\n",
       "         2.01518105e-01,  2.53706627e-01,  3.43267793e-01,  4.61437284e-01,\n",
       "         5.73511496e-01,  6.61172966e-01,  7.60962365e-01,  8.94803203e-01,\n",
       "         1.01948152e+00,  1.14144329e+00,  1.25689245e+00,  1.38643395e+00,\n",
       "         1.51739057e+00,  1.60381828e+00,  1.67722816e+00,  1.70607349e+00,\n",
       "         1.73567250e+00,  1.74982249e+00,  1.77251488e+00,  1.79894580e+00,\n",
       "         1.78120661e+00,  1.76524248e+00,  1.72189765e+00,  1.73654111e+00,\n",
       "         1.77407051e+00,  1.77320345e+00,  1.74490984e+00,  1.73381211e+00,\n",
       "         1.72352477e+00,  1.75312516e+00,  1.76289635e+00,  1.79041427e+00,\n",
       "         1.76061065e+00,  1.71693633e+00,  1.72339491e+00,  1.73083188e+00,\n",
       "         1.73546463e+00,  1.71046284e+00,  1.73811040e+00,  1.76781296e+00,\n",
       "         1.75358298e+00,  1.77299170e+00,  1.79901221e+00,  1.78525216e+00]),\n",
       " array([ 0.        , -0.13973824, -0.02108716, -0.01402143, -0.15297868,\n",
       "        -0.1356545 , -0.29060386, -0.27798791, -0.40235283, -0.4520979 ,\n",
       "        -0.65356841, -0.82969942, -0.82979406, -0.8174227 , -0.7987329 ,\n",
       "        -0.71703941, -0.7305997 , -0.76379383, -0.83045141, -0.89938247,\n",
       "        -0.93095219, -0.93602246, -0.99435794, -0.99974355, -0.96427603,\n",
       "        -0.91083075, -0.87914721, -0.81205674, -0.77329316, -0.676977  ,\n",
       "        -0.52148011, -0.39602519, -0.28445597, -0.14614564, -0.0396793 ,\n",
       "         0.03824037,  0.12286133,  0.19817257,  0.25468275,  0.28480479,\n",
       "         0.26220145,  0.26904291,  0.25950503,  0.26799963,  0.28554326,\n",
       "         0.23600768,  0.17755074,  0.09252261,  0.08107293,  0.0764984 ,\n",
       "         0.10815928,  0.15368152,  0.14128552,  0.17599264,  0.18558441,\n",
       "         0.16050441,  0.19859089,  0.2461592 ,  0.33262129,  0.44955043,\n",
       "         0.5617785 ,  0.65039398,  0.75195673,  0.88799649,  1.01478975,\n",
       "         1.13850702,  1.25540629,  1.38592673,  1.51739057,  1.60381828,\n",
       "         1.67722816,  1.70607349,  1.7356725 ,  1.74982249,  1.77251488,\n",
       "         1.7989458 ,  1.78120661,  1.76524248,  1.72189765,  1.73654111,\n",
       "         1.77407051,  1.77320345,  1.74490984,  1.73381211,  1.72352477,\n",
       "         1.75312516,  1.76289635,  1.79041427,  1.76061065,  1.71693633,\n",
       "         1.72339491,  1.73083188,  1.73546463,  1.71046284,  1.7381104 ,\n",
       "         1.76781296,  1.75358298,  1.7729917 ,  1.79901221,  1.78525216]))"
      ]
     },
     "execution_count": 84,
     "metadata": {},
     "output_type": "execute_result"
    }
   ],
   "source": [
    "ysd, yds"
   ]
  },
  {
   "cell_type": "code",
   "execution_count": 85,
   "metadata": {},
   "outputs": [
    {
     "data": {
      "image/png": "[encoded data removed]",
      "text/plain": [
       "<Figure size 720x576 with 1 Axes>"
      ]
     },
     "metadata": {
      "needs_background": "light"
     },
     "output_type": "display_data"
    }
   ],
   "source": [
    "plt.figure(figsize=FS)\n",
    "plt.plot(np.arange(n), ysd, 'r-.', np.arange(n), yds, 'b-o')\n",
    "plt.legend(['ysd', 'yds'])\n",
    "plt.grid(True)"
   ]
  },
  {
   "cell_type": "markdown",
   "metadata": {},
   "source": [
    "Let's also look at the difference"
   ]
  },
  {
   "cell_type": "code",
   "execution_count": 87,
   "metadata": {},
   "outputs": [
    {
     "data": {
      "text/plain": [
       "Text(0.5, 1.0, 'ysd - yds')"
      ]
     },
     "execution_count": 87,
     "metadata": {},
     "output_type": "execute_result"
    },
    {
     "data": {
      "image/png": "[encoded data removed]",
      "text/plain": [
       "<Figure size 720x576 with 1 Axes>"
      ]
     },
     "metadata": {
      "needs_background": "light"
     },
     "output_type": "display_data"
    }
   ],
   "source": [
    "plt.figure(figsize=FS)\n",
    "plt.plot(np.arange(n), ysd - yds, '.')\n",
    "plt.grid(True)\n",
    "plt.title('ysd - yds')"
   ]
  },
  {
   "cell_type": "code",
   "execution_count": 88,
   "metadata": {},
   "outputs": [
    {
     "data": {
      "text/plain": [
       "array([False, False, False, False, False, False, False, False, False,\n",
       "       False, False, False, False, False, False, False, False, False,\n",
       "       False, False, False, False, False, False, False, False, False,\n",
       "       False, False, False,  True,  True,  True,  True,  True,  True,\n",
       "        True,  True,  True,  True,  True,  True,  True,  True,  True,\n",
       "        True,  True,  True,  True,  True,  True,  True,  True,  True,\n",
       "        True,  True,  True,  True,  True,  True,  True,  True,  True,\n",
       "        True,  True,  True,  True,  True, False, False, False, False,\n",
       "       False, False, False, False, False, False, False, False, False,\n",
       "       False, False, False, False, False, False, False, False, False,\n",
       "       False, False, False, False, False, False, False, False, False,\n",
       "       False])"
      ]
     },
     "execution_count": 88,
     "metadata": {},
     "output_type": "execute_result"
    }
   ],
   "source": [
    "np.abs(ysd - yds) > 1e-10"
   ]
  },
  {
   "cell_type": "markdown",
   "metadata": {},
   "source": [
    "It's quite interesting to see the operator $A_{M}A_{N} - A_{N}A_{M}$. It's largely sparse, with\n",
    "very few entries contrubuting to the difference. "
   ]
  },
  {
   "cell_type": "code",
   "execution_count": 90,
   "metadata": {},
   "outputs": [
    {
     "data": {
      "image/png": "[encoded data removed]",
      "text/plain": [
       "<Figure size 432x288 with 1 Axes>"
      ]
     },
     "metadata": {
      "needs_background": "light"
     },
     "output_type": "display_data"
    }
   ],
   "source": [
    "A = lambda M: moving_average_matrix(len(x), M)\n",
    "D = A(M)@A(N) - A(N)@A(M)\n",
    "Ds = sps.csr_matrix(D)\n",
    "plt.spy(Ds)\n",
    "plt.show()"
   ]
  },
  {
   "cell_type": "code",
   "execution_count": null,
   "metadata": {},
   "outputs": [],
   "source": []
  }
 ],
 "metadata": {
  "kernelspec": {
   "display_name": "Python 3",
   "language": "python",
   "name": "python3"
  },
  "language_info": {
   "codemirror_mode": {
    "name": "ipython",
    "version": 3
   },
   "file_extension": ".py",
   "mimetype": "text/x-python",
   "name": "python",
   "nbconvert_exporter": "python",
   "pygments_lexer": "ipython3",
   "version": "3.7.3"
  }
 },
 "nbformat": 4,
 "nbformat_minor": 2
}
