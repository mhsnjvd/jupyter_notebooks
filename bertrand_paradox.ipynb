{
 "cells": [
  {
   "cell_type": "markdown",
   "id": "63ae8545",
   "metadata": {},
   "source": [
    "# Bertrand Paradox"
   ]
  },
  {
   "cell_type": "markdown",
   "id": "e6db32fa",
   "metadata": {},
   "source": [
    "Wikipedia: Consider an equilateral triangle inscribed in a circle. Suppose a chord of the circle is chosen at random. What is the probability that the chord is longer than a side of the triangle?"
   ]
  },
  {
   "cell_type": "code",
   "execution_count": 73,
   "id": "d2e8e7e1",
   "metadata": {},
   "outputs": [],
   "source": [
    "import numpy as np\n",
    "import matplotlib.pyplot as plt"
   ]
  },
  {
   "cell_type": "markdown",
   "id": "cb18c22c",
   "metadata": {},
   "source": [
    "Choose two points at random in $[0, 2 \\pi]$ and use them as angles $\\theta_1$ and $\\theta_2$\n",
    "subtended by the end points of the chord with the centre of the circle\n"
   ]
  },
  {
   "cell_type": "code",
   "execution_count": 74,
   "id": "2e04743e",
   "metadata": {},
   "outputs": [],
   "source": [
    "n = 10000000\n",
    "x = np.random.rand(n, 2)\n",
    "theta = 2*np.pi*x\n",
    "th_1 = theta[:, 0]\n",
    "th_2 = theta[:, 1]\n",
    "assert len(th_1) == n\n",
    "assert len(th_2) == n\n",
    "assert len(th_1) == len(th_2)"
   ]
  },
  {
   "cell_type": "markdown",
   "id": "662f9665",
   "metadata": {},
   "source": [
    "The length of the chord is $2 \\left| \\sin \\left(\\frac{\\theta_1 - \\theta_2}{2}\\right)\\right|$"
   ]
  },
  {
   "cell_type": "code",
   "execution_count": 75,
   "id": "84b9405e",
   "metadata": {},
   "outputs": [],
   "source": [
    "l = np.abs(2 * np.sin((th_1 - th_2)/2.0))"
   ]
  },
  {
   "cell_type": "markdown",
   "id": "389e98c6",
   "metadata": {},
   "source": [
    "The length of the side of an equilateral triangel inside the unit \n",
    "circle is $2 \\cos(\\pi/6)$"
   ]
  },
  {
   "cell_type": "code",
   "execution_count": 76,
   "id": "bab91d36",
   "metadata": {},
   "outputs": [
    {
     "data": {
      "text/plain": [
       "1.7320508075688774"
      ]
     },
     "execution_count": 76,
     "metadata": {},
     "output_type": "execute_result"
    }
   ],
   "source": [
    "2*np.cos(np.pi/6)"
   ]
  },
  {
   "cell_type": "markdown",
   "id": "fb337e80",
   "metadata": {},
   "source": [
    "Under this apporach, the probablity that the length of the chord is more than the \n",
    "length of the side of the equilateral triangle seems to be apporaching $1/3$:"
   ]
  },
  {
   "cell_type": "code",
   "execution_count": 77,
   "id": "de16a536",
   "metadata": {},
   "outputs": [
    {
     "data": {
      "text/plain": [
       "0.3332588"
      ]
     },
     "execution_count": 77,
     "metadata": {},
     "output_type": "execute_result"
    }
   ],
   "source": [
    "prob = np.sum(l > 2 * np.cos(np.pi/6)) / n\n",
    "prob"
   ]
  },
  {
   "cell_type": "markdown",
   "id": "10123d8a",
   "metadata": {},
   "source": [
    "# Some Plots"
   ]
  },
  {
   "cell_type": "code",
   "execution_count": null,
   "id": "95c91063",
   "metadata": {},
   "outputs": [],
   "source": []
  },
  {
   "cell_type": "code",
   "execution_count": 78,
   "id": "5605e710",
   "metadata": {},
   "outputs": [],
   "source": [
    "p1 = np.exp(1j*th_1)\n",
    "p2 = np.exp(1j*th_2)\n",
    "x1 = np.real(p1)\n",
    "y1 = np.imag(p1)\n",
    "x2 = np.real(p2)\n",
    "y2 = np.imag(p2)"
   ]
  },
  {
   "cell_type": "code",
   "execution_count": null,
   "id": "3852ed9d",
   "metadata": {
    "scrolled": false
   },
   "outputs": [],
   "source": [
    "plt.figure(figsize=(8, 8))\n",
    "tt = np.linspace(0, 1, 2001)\n",
    "zz = np.exp(2*np.pi*1j*tt)\n",
    "plt.plot(np.real(zz), np.imag(zz), '.')\n",
    "plt.plot([x1, x2], [y1, y2])\n",
    "plt.axis('square')\n",
    "plt.grid(True)"
   ]
  },
  {
   "cell_type": "code",
   "execution_count": null,
   "id": "faa1cba9",
   "metadata": {},
   "outputs": [],
   "source": []
  },
  {
   "cell_type": "code",
   "execution_count": null,
   "id": "fcf01702",
   "metadata": {},
   "outputs": [],
   "source": []
  }
 ],
 "metadata": {
  "kernelspec": {
   "display_name": "Python 3 (ipykernel)",
   "language": "python",
   "name": "python3"
  },
  "language_info": {
   "codemirror_mode": {
    "name": "ipython",
    "version": 3
   },
   "file_extension": ".py",
   "mimetype": "text/x-python",
   "name": "python",
   "nbconvert_exporter": "python",
   "pygments_lexer": "ipython3",
   "version": "3.10.1"
  }
 },
 "nbformat": 4,
 "nbformat_minor": 5
}
