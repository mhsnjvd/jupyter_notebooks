{
 "cells": [
  {
   "cell_type": "markdown",
   "metadata": {},
   "source": [
    "# Yet another coin flipping problem\n",
    "\n",
    "### Mohsin Javed, June 4, 2019 (Eid-ul-Fitar day, Oxford, UK)\n",
    "\n",
    "We are given an array of integers starting \n",
    "from $0$ and ending at $100$. We start from $0$ and \n",
    "start flipping a fair coin. If a head comes down, \n",
    "we advance by $1$ unit from our current position and \n",
    "if a tail comes down we advance by $2$ units from our currnet position. \n",
    "For example, starting from $0$, if the first coin flip is a head, we move\n",
    "to $1$, otherwise, we skip $1$ and move to $2$. \n",
    "We continue flipping the coin and keep moving forward until we \n",
    "reach hundred or beyond. \n",
    "\n",
    "The question is, which number from $1$ to $100$ in the array has the \n",
    "largest probability of being visited?  \n",
    "\n",
    "Let $p_k$ be the probability of integer $k$ being visited and let \n",
    "$T_k$ be a binomial random variable representing the $k^{th}$ toss. \n",
    "\n",
    "Then, $ p_1 = 1/2,$ because the \n",
    "only way we land at $1$ is if the first toss is a head and the probability of a head on the \n",
    "first toss is $1/2$.\n",
    "\n",
    "To calculate $p_2$, we condition on the first toss,\n",
    "\n",
    "\\begin{align*}\n",
    "p_2 &= P(\\text{ Landing at 2 }| T_1 = Head)P(T_1 = Head) + P(\\text{ Landing at 2 }|T_1 = Tail)P(T_1 = Tail)\\\\\n",
    "p_2 &= (1/2) (1/2) + (1) (1/2)\\\\\n",
    "p_2 &= 3/4.\n",
    "\\end{align*}\n",
    "\n",
    "What is $p_k$, for which value of $k$, $p_k$ is largest?\n"
   ]
  },
  {
   "cell_type": "code",
   "execution_count": null,
   "metadata": {},
   "outputs": [],
   "source": []
  }
 ],
 "metadata": {
  "kernelspec": {
   "display_name": "Python 3",
   "language": "python",
   "name": "python3"
  },
  "language_info": {
   "codemirror_mode": {
    "name": "ipython",
    "version": 3
   },
   "file_extension": ".py",
   "mimetype": "text/x-python",
   "name": "python",
   "nbconvert_exporter": "python",
   "pygments_lexer": "ipython3",
   "version": "3.7.2"
  }
 },
 "nbformat": 4,
 "nbformat_minor": 2
}
