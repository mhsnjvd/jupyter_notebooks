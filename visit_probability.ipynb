{
 "cells": [
  {
   "cell_type": "code",
   "execution_count": 5,
   "metadata": {},
   "outputs": [],
   "source": [
    "%matplotlib inline\n",
    "import matplotlib.pyplot as plt\n",
    "import numpy as np"
   ]
  },
  {
   "cell_type": "markdown",
   "metadata": {},
   "source": [
    "# Yet another coin flipping problem\n",
    "\n",
    "### Mohsin Javed, June 4, 2019 (Eid-ul-Fitar day, Oxford, UK)\n",
    "\n",
    "We are given an array of integers starting \n",
    "from $0$ and ending at $100$. We start from $0$ and \n",
    "start flipping a fair coin. If a head comes down, \n",
    "we advance by $1$ unit from our current position and \n",
    "if a tail comes down we advance by $2$ units from our currnet position. \n",
    "For example, starting from $0$, if the first coin flip is a head, we move\n",
    "to $1$, otherwise, we skip $1$ and move to $2$. \n",
    "We continue flipping the coin and keep moving forward until we \n",
    "reach hundred or beyond. \n",
    "\n",
    "The question is, which number from $1$ to $100$ in the array has the \n",
    "largest probability of being visited?  \n",
    "\n",
    "Let $p_k$ be the probability of integer $k$ being visited and let \n",
    "$T_k$ be a binomial random variable representing the $k^{th}$ toss. \n",
    "\n",
    "Then, $ p_1 = 1/2,$ because the \n",
    "only way we land at $1$ is if the first toss is a head and the probability of a head on the \n",
    "first toss is $1/2$.\n",
    "\n",
    "To calculate $p_2$, we condition on the first toss,\n",
    "\n",
    "\\begin{align*}\n",
    "p_2 &= P(\\textrm{ visiting 2 }| T_1 = Head)P(T_1 = Head) + P(\\textrm{ visiting 2 }|T_1 = Tail)P(T_1 = Tail)\\\\\n",
    "p_2 &= (1/2) (1/2) + (1) (1/2)\\\\\n",
    "p_2 &= 3/4.\n",
    "\\end{align*}\n",
    "\n",
    "We can now calculate $p_3$ but we can direclty attemp to calculate $p_k$ in general. Notice that we can visit $k$ only if we are first at $k-1$ or $k-2$. This gives us a nice recurrence relation:\n",
    "\n",
    "\\begin{align*}\n",
    "p_k &= P(\\textrm{ visiting $k$ }| \\textrm{ visited $k-1$ } )P(\\textrm{ visiting $k-1$ })\n",
    "+ P(\\textrm{ visiting $k$ }| \\textrm{ visited $k-2$ } )P(\\textrm{ visiting $k-2$ }) \\\\\n",
    "p_k &= \\frac{1}{2} p_{k-1} + \\frac{1}{2} p_{k-2}. \n",
    "\\end{align*}\n",
    "\n",
    "This is a beautiful second order recurrence relation. The probability of visiting a number is precisely \n",
    "the average of the proababilities of visiting the previous two numbers!\n"
   ]
  },
  {
   "cell_type": "code",
   "execution_count": 22,
   "metadata": {},
   "outputs": [
    {
     "name": "stdout",
     "output_type": "stream",
     "text": [
      "p_00 = 0\n",
      "p_01 = 0.5\n",
      "p_02 = 0.75\n",
      "p_03 = 0.625\n",
      "p_04 = 0.6875\n",
      "p_05 = 0.65625\n",
      "p_06 = 0.671875\n",
      "p_07 = 0.6640625\n",
      "p_08 = 0.66796875\n",
      "p_09 = 0.666015625\n",
      "p_10 = 0.6669921875\n",
      "p_11 = 0.66650390625\n",
      "p_12 = 0.666748046875\n",
      "p_13 = 0.6666259765625\n",
      "p_14 = 0.66668701171875\n",
      "p_15 = 0.666656494140625\n",
      "p_16 = 0.6666717529296875\n",
      "p_17 = 0.6666641235351562\n",
      "p_18 = 0.6666679382324219\n",
      "p_19 = 0.6666660308837891\n",
      "p_20 = 0.6666669845581055\n",
      "p_21 = 0.6666665077209473\n",
      "p_22 = 0.6666667461395264\n",
      "p_23 = 0.6666666269302368\n",
      "p_24 = 0.6666666865348816\n",
      "p_25 = 0.6666666567325592\n",
      "p_26 = 0.6666666716337204\n",
      "p_27 = 0.6666666641831398\n",
      "p_28 = 0.6666666679084301\n",
      "p_29 = 0.666666666045785\n",
      "p_30 = 0.6666666669771075\n",
      "p_31 = 0.6666666665114462\n",
      "p_32 = 0.6666666667442769\n",
      "p_33 = 0.6666666666278616\n",
      "p_34 = 0.6666666666860692\n",
      "p_35 = 0.6666666666569654\n",
      "p_36 = 0.6666666666715173\n",
      "p_37 = 0.6666666666642413\n",
      "p_38 = 0.6666666666678793\n",
      "p_39 = 0.6666666666660603\n",
      "p_40 = 0.6666666666669698\n",
      "p_41 = 0.6666666666665151\n",
      "p_42 = 0.6666666666667425\n",
      "p_43 = 0.6666666666666288\n",
      "p_44 = 0.6666666666666856\n",
      "p_45 = 0.6666666666666572\n",
      "p_46 = 0.6666666666666714\n",
      "p_47 = 0.6666666666666643\n",
      "p_48 = 0.6666666666666679\n",
      "p_49 = 0.6666666666666661\n",
      "p_50 = 0.666666666666667\n",
      "p_51 = 0.6666666666666665\n",
      "p_52 = 0.6666666666666667\n",
      "p_53 = 0.6666666666666666\n",
      "p_54 = 0.6666666666666667\n",
      "p_55 = 0.6666666666666667\n",
      "p_56 = 0.6666666666666667\n",
      "p_57 = 0.6666666666666667\n",
      "p_58 = 0.6666666666666667\n",
      "p_59 = 0.6666666666666667\n",
      "p_60 = 0.6666666666666667\n",
      "p_61 = 0.6666666666666667\n",
      "p_62 = 0.6666666666666667\n",
      "p_63 = 0.6666666666666667\n",
      "p_64 = 0.6666666666666667\n",
      "p_65 = 0.6666666666666667\n",
      "p_66 = 0.6666666666666667\n",
      "p_67 = 0.6666666666666667\n",
      "p_68 = 0.6666666666666667\n",
      "p_69 = 0.6666666666666667\n",
      "p_70 = 0.6666666666666667\n",
      "p_71 = 0.6666666666666667\n",
      "p_72 = 0.6666666666666667\n",
      "p_73 = 0.6666666666666667\n",
      "p_74 = 0.6666666666666667\n",
      "p_75 = 0.6666666666666667\n",
      "p_76 = 0.6666666666666667\n",
      "p_77 = 0.6666666666666667\n",
      "p_78 = 0.6666666666666667\n",
      "p_79 = 0.6666666666666667\n",
      "p_80 = 0.6666666666666667\n",
      "p_81 = 0.6666666666666667\n",
      "p_82 = 0.6666666666666667\n",
      "p_83 = 0.6666666666666667\n",
      "p_84 = 0.6666666666666667\n",
      "p_85 = 0.6666666666666667\n",
      "p_86 = 0.6666666666666667\n",
      "p_87 = 0.6666666666666667\n",
      "p_88 = 0.6666666666666667\n",
      "p_89 = 0.6666666666666667\n",
      "p_90 = 0.6666666666666667\n",
      "p_91 = 0.6666666666666667\n",
      "p_92 = 0.6666666666666667\n",
      "p_93 = 0.6666666666666667\n",
      "p_94 = 0.6666666666666667\n",
      "p_95 = 0.6666666666666667\n",
      "p_96 = 0.6666666666666667\n",
      "p_97 = 0.6666666666666667\n",
      "p_98 = 0.6666666666666667\n",
      "p_99 = 0.6666666666666667\n",
      "p_100 = 0.6666666666666667\n"
     ]
    }
   ],
   "source": [
    "p = 101 * [0]; p[0] = 0; p[1] = 1.0/2.0; p[2] = 3.0/4.0\n",
    "for i in range(3,101):\n",
    "    p[i] = (1.0/2.0)*(p[i-1] + p[i-2])    \n",
    "for i in range(101):\n",
    "    print('p_{0:02d} = {1}'.format(i, p[i] ))"
   ]
  },
  {
   "cell_type": "code",
   "execution_count": 25,
   "metadata": {},
   "outputs": [
    {
     "data": {
      "image/png": "[encoded data removed]",
      "text/plain": [
       "<Figure size 432x288 with 1 Axes>"
      ]
     },
     "metadata": {
      "needs_background": "light"
     },
     "output_type": "display_data"
    }
   ],
   "source": [
    "plt.plot(np.r_[1:101], p[1:101], 'b.-')\n",
    "plt.grid(True)"
   ]
  },
  {
   "cell_type": "markdown",
   "metadata": {},
   "source": [
    "It seems that $p_2 = 3/4$ is the peak, so $2$ has the hightest probability of \n",
    "being visited. Also,\n",
    "\n",
    "$$\\lim_{k \\to \\infty} p_k = 2/3.$$"
   ]
  },
  {
   "cell_type": "code",
   "execution_count": 68,
   "metadata": {},
   "outputs": [],
   "source": [
    "N = int(1e5)\n",
    "coin_flips = np.random.binomial(1, 1.0/2.0, size=(N, 100))"
   ]
  },
  {
   "cell_type": "code",
   "execution_count": 84,
   "metadata": {},
   "outputs": [],
   "source": [
    "path = coin_flips.copy()\n",
    "path[path==0]=2\n",
    "path = coin_flips.cumsum(axis=1)"
   ]
  },
  {
   "cell_type": "code",
   "execution_count": 85,
   "metadata": {},
   "outputs": [],
   "source": [
    "counts = {}\n",
    "for i in range(path.shape[0]):\n",
    "    for j in range(path.shape[1]):\n",
    "        if path[i][j] not in counts:\n",
    "            counts[path[i][j]] = 1\n",
    "        else:\n",
    "            counts[path[i][j]] += 1\n",
    "            \n",
    "probabilities = {k: v/N for (k, v) in counts.items() if k <= 100}"
   ]
  },
  {
   "cell_type": "code",
   "execution_count": 86,
   "metadata": {},
   "outputs": [
    {
     "data": {
      "image/png": "[encoded data removed]",
      "text/plain": [
       "<Figure size 432x288 with 1 Axes>"
      ]
     },
     "metadata": {
      "needs_background": "light"
     },
     "output_type": "display_data"
    }
   ],
   "source": [
    "lists = sorted(probabilities.items())\n",
    "k, p_k = zip(*lists)\n",
    "plt.plot(k, p_k, '.-')\n",
    "plt.grid(True)"
   ]
  },
  {
   "cell_type": "code",
   "execution_count": 87,
   "metadata": {},
   "outputs": [
    {
     "name": "stdout",
     "output_type": "stream",
     "text": [
      "p_01 = 0.50224\n",
      "p_02 = 0.74915\n",
      "p_03 = 0.62382\n",
      "p_04 = 0.68752\n",
      "p_05 = 0.65559\n",
      "p_06 = 0.6726\n",
      "p_07 = 0.66304\n",
      "p_08 = 0.66691\n",
      "p_09 = 0.66493\n",
      "p_10 = 0.6688\n",
      "p_11 = 0.66029\n",
      "p_12 = 0.66638\n",
      "p_13 = 0.66545\n",
      "p_14 = 0.66846\n",
      "p_15 = 0.66796\n",
      "p_16 = 0.66686\n",
      "p_17 = 0.66549\n",
      "p_18 = 0.66816\n",
      "p_19 = 0.66308\n",
      "p_20 = 0.66908\n",
      "p_21 = 0.66505\n",
      "p_22 = 0.66806\n",
      "p_23 = 0.66727\n",
      "p_24 = 0.66624\n",
      "p_25 = 0.66924\n",
      "p_26 = 0.66583\n",
      "p_27 = 0.66696\n",
      "p_28 = 0.66495\n",
      "p_29 = 0.66524\n",
      "p_30 = 0.66892\n",
      "p_31 = 0.66831\n",
      "p_32 = 0.66358\n",
      "p_33 = 0.66744\n",
      "p_34 = 0.66742\n",
      "p_35 = 0.66773\n",
      "p_36 = 0.66836\n",
      "p_37 = 0.66807\n",
      "p_38 = 0.66713\n",
      "p_39 = 0.66626\n",
      "p_40 = 0.66851\n",
      "p_41 = 0.66326\n",
      "p_42 = 0.66834\n",
      "p_43 = 0.66443\n",
      "p_44 = 0.6662\n",
      "p_45 = 0.66771\n",
      "p_46 = 0.66865\n",
      "p_47 = 0.66477\n",
      "p_48 = 0.66936\n",
      "p_49 = 0.66394\n",
      "p_50 = 0.66888\n",
      "p_51 = 0.66553\n",
      "p_52 = 0.66671\n",
      "p_53 = 0.6675\n",
      "p_54 = 0.6668\n",
      "p_55 = 0.66794\n",
      "p_56 = 0.66517\n",
      "p_57 = 0.66567\n",
      "p_58 = 0.66721\n",
      "p_59 = 0.66712\n",
      "p_60 = 0.66556\n",
      "p_61 = 0.66642\n",
      "p_62 = 0.66471\n",
      "p_63 = 0.66897\n",
      "p_64 = 0.66452\n",
      "p_65 = 0.66774\n",
      "p_66 = 0.66561\n",
      "p_67 = 0.66903\n",
      "p_68 = 0.66444\n",
      "p_69 = 0.66719\n",
      "p_70 = 0.66584\n",
      "p_71 = 0.66682\n",
      "p_72 = 0.66617\n",
      "p_73 = 0.66564\n",
      "p_74 = 0.66566\n",
      "p_75 = 0.66707\n",
      "p_76 = 0.66845\n",
      "p_77 = 0.66465\n",
      "p_78 = 0.66862\n",
      "p_79 = 0.66513\n",
      "p_80 = 0.66667\n",
      "p_81 = 0.66594\n",
      "p_82 = 0.66766\n",
      "p_83 = 0.66724\n",
      "p_84 = 0.66886\n",
      "p_85 = 0.66509\n",
      "p_86 = 0.6659\n",
      "p_87 = 0.6667\n",
      "p_88 = 0.66677\n",
      "p_89 = 0.66821\n",
      "p_90 = 0.66908\n",
      "p_91 = 0.66522\n",
      "p_92 = 0.66766\n",
      "p_93 = 0.66839\n",
      "p_94 = 0.66611\n",
      "p_95 = 0.66518\n",
      "p_96 = 0.66794\n",
      "p_97 = 0.6644\n",
      "p_98 = 0.66788\n",
      "p_99 = 0.66315\n",
      "p_100 = 0.66958\n"
     ]
    }
   ],
   "source": [
    "for i in range(1, 101):\n",
    "    print('p_{0:02d} = {1}'.format(i, probabilities[i]))"
   ]
  },
  {
   "cell_type": "code",
   "execution_count": null,
   "metadata": {},
   "outputs": [],
   "source": []
  }
 ],
 "metadata": {
  "kernelspec": {
   "display_name": "Python 3",
   "language": "python",
   "name": "python3"
  },
  "language_info": {
   "codemirror_mode": {
    "name": "ipython",
    "version": 3
   },
   "file_extension": ".py",
   "mimetype": "text/x-python",
   "name": "python",
   "nbconvert_exporter": "python",
   "pygments_lexer": "ipython3",
   "version": "3.7.2"
  }
 },
 "nbformat": 4,
 "nbformat_minor": 2
}
