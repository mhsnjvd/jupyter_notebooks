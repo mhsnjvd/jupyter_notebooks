{
 "cells": [
  {
   "cell_type": "code",
   "execution_count": 5,
   "metadata": {},
   "outputs": [],
   "source": [
    "%matplotlib inline\n",
    "import matplotlib.pyplot as plt\n",
    "import numpy as np"
   ]
  },
  {
   "cell_type": "markdown",
   "metadata": {},
   "source": [
    "# Yet another coin flipping problem\n",
    "\n",
    "### Mohsin Javed, June 4, 2019 (Eid-ul-Fitar day, Oxford, UK)\n",
    "\n",
    "We are given an array of integers starting \n",
    "from $0$ and ending at $100$. We start from $0$ and \n",
    "start flipping a fair coin. If a head comes down, \n",
    "we advance by $1$ unit from our current position and \n",
    "if a tail comes down we advance by $2$ units from our currnet position. \n",
    "For example, starting from $0$, if the first coin flip is a head, we move\n",
    "to $1$, otherwise, we skip $1$ and move to $2$. \n",
    "We continue flipping the coin and keep moving forward until we \n",
    "reach hundred or beyond. \n",
    "\n",
    "The question is, which number from $1$ to $100$ in the array has the \n",
    "largest probability of being visited?  \n",
    "\n",
    "Let $p_k$ be the probability of integer $k$ being visited and let \n",
    "$T_k$ be a binomial random variable representing the $k^{th}$ toss. \n",
    "\n",
    "Then, $ p_1 = 1/2,$ because the \n",
    "only way we land at $1$ is if the first toss is a head and the probability of a head on the \n",
    "first toss is $1/2$.\n",
    "\n",
    "To calculate $p_2$, we condition on the first toss,\n",
    "\n",
    "\\begin{align*}\n",
    "p_2 &= P(\\textrm{ visiting 2 }| T_1 = Head)P(T_1 = Head) + P(\\textrm{ visiting 2 }|T_1 = Tail)P(T_1 = Tail)\\\\\n",
    "p_2 &= (1/2) (1/2) + (1) (1/2)\\\\\n",
    "p_2 &= 3/4.\n",
    "\\end{align*}\n",
    "\n",
    "We can now calculate $p_3$ but we can direclty attemp to calculate $p_k$ in general. Notice that we can visit $k$ only if we are first at $k-1$ or $k-2$. This gives us a nice recurrence relation:\n",
    "\n",
    "\\begin{align*}\n",
    "p_k &= P(\\textrm{ visiting } k| \\textrm{ visited } k-1 )P(\\textrm{ visiting } k-1)\n",
    "+ P(\\textrm{ visiting } k | \\textrm{ visited } k-2)P(\\textrm{ visiting } k-2) \\\\\n",
    "p_k &= \\frac{1}{2} p_{k-1} + \\frac{1}{2} p_{k-2}. \n",
    "\\end{align*}\n",
    "\n",
    "This is a beautiful second order recurrence relation. The probability of visiting a number is precisely \n",
    "the average of the proababilities of visiting the previous two numbers!\n",
    "\n",
    "We can solve this recurrence relation using standard methods. The solution is of the form \n",
    "\n",
    "$$p_k = Ar_1^k + Br_2^k,$$\n",
    "\n",
    "where $r_1$ and $r_2$ are the roots of the corresponding characteristic \n",
    "equation,\n",
    "\n",
    "$$ r^2 = \\frac{1}{2} r + \\frac{1}{2}. $$\n",
    "\n",
    "Solving the above quadratic, we get $r_1 = 1, r_2 = -1/2$, and using the initial conditions \n",
    "given by $p_1,p_2$, we can get the values of $A$ and $B$ as well, resulting in the final \n",
    "solution:\n",
    "\n",
    "$$ p_k = \\frac{1}{3} \\left(\\frac{2^{k+1}+(-1)^k}{2^k} \\right).$$\n"
   ]
  },
  {
   "cell_type": "markdown",
   "metadata": {},
   "source": [
    "Let us now write a short piece of code to plot the probabilities."
   ]
  },
  {
   "cell_type": "code",
   "execution_count": 99,
   "metadata": {},
   "outputs": [
    {
     "name": "stdout",
     "output_type": "stream",
     "text": [
      "p_00 = 0\n",
      "p_01 = 0.5\n",
      "p_02 = 0.75\n",
      "p_03 = 0.625\n",
      "p_04 = 0.6875\n",
      "p_05 = 0.65625\n",
      "p_06 = 0.671875\n",
      "p_07 = 0.6640625\n",
      "p_08 = 0.66796875\n",
      "p_09 = 0.666015625\n",
      "p_10 = 0.6669921875\n",
      "p_11 = 0.66650390625\n",
      "p_12 = 0.666748046875\n",
      "p_13 = 0.6666259765625\n",
      "p_14 = 0.66668701171875\n",
      "p_15 = 0.666656494140625\n",
      "p_16 = 0.6666717529296875\n",
      "p_17 = 0.6666641235351562\n",
      "p_18 = 0.6666679382324219\n",
      "p_19 = 0.6666660308837891\n",
      "p_20 = 0.6666669845581055\n",
      "p_21 = 0.6666665077209473\n",
      "p_22 = 0.6666667461395264\n",
      "p_23 = 0.6666666269302368\n",
      "p_24 = 0.6666666865348816\n",
      "p_25 = 0.6666666567325592\n",
      "p_26 = 0.6666666716337204\n",
      "p_27 = 0.6666666641831398\n",
      "p_28 = 0.6666666679084301\n",
      "p_29 = 0.666666666045785\n",
      "p_30 = 0.6666666669771075\n",
      "p_31 = 0.6666666665114462\n",
      "p_32 = 0.6666666667442769\n",
      "p_33 = 0.6666666666278616\n",
      "p_34 = 0.6666666666860692\n",
      "p_35 = 0.6666666666569654\n",
      "p_36 = 0.6666666666715173\n",
      "p_37 = 0.6666666666642413\n",
      "p_38 = 0.6666666666678793\n",
      "p_39 = 0.6666666666660603\n",
      "p_40 = 0.6666666666669698\n",
      "p_41 = 0.6666666666665151\n",
      "p_42 = 0.6666666666667425\n",
      "p_43 = 0.6666666666666288\n",
      "p_44 = 0.6666666666666856\n",
      "p_45 = 0.6666666666666572\n",
      "p_46 = 0.6666666666666714\n",
      "p_47 = 0.6666666666666643\n",
      "p_48 = 0.6666666666666679\n",
      "p_49 = 0.6666666666666661\n",
      "p_50 = 0.666666666666667\n",
      "p_51 = 0.6666666666666665\n",
      "p_52 = 0.6666666666666667\n",
      "p_53 = 0.6666666666666666\n",
      "p_54 = 0.6666666666666667\n",
      "p_55 = 0.6666666666666667\n",
      "p_56 = 0.6666666666666667\n",
      "p_57 = 0.6666666666666667\n",
      "p_58 = 0.6666666666666667\n",
      "p_59 = 0.6666666666666667\n",
      "p_60 = 0.6666666666666667\n",
      "p_61 = 0.6666666666666667\n",
      "p_62 = 0.6666666666666667\n",
      "p_63 = 0.6666666666666667\n",
      "p_64 = 0.6666666666666667\n",
      "p_65 = 0.6666666666666667\n",
      "p_66 = 0.6666666666666667\n",
      "p_67 = 0.6666666666666667\n",
      "p_68 = 0.6666666666666667\n",
      "p_69 = 0.6666666666666667\n",
      "p_70 = 0.6666666666666667\n",
      "p_71 = 0.6666666666666667\n",
      "p_72 = 0.6666666666666667\n",
      "p_73 = 0.6666666666666667\n",
      "p_74 = 0.6666666666666667\n",
      "p_75 = 0.6666666666666667\n",
      "p_76 = 0.6666666666666667\n",
      "p_77 = 0.6666666666666667\n",
      "p_78 = 0.6666666666666667\n",
      "p_79 = 0.6666666666666667\n",
      "p_80 = 0.6666666666666667\n",
      "p_81 = 0.6666666666666667\n",
      "p_82 = 0.6666666666666667\n",
      "p_83 = 0.6666666666666667\n",
      "p_84 = 0.6666666666666667\n",
      "p_85 = 0.6666666666666667\n",
      "p_86 = 0.6666666666666667\n",
      "p_87 = 0.6666666666666667\n",
      "p_88 = 0.6666666666666667\n",
      "p_89 = 0.6666666666666667\n",
      "p_90 = 0.6666666666666667\n",
      "p_91 = 0.6666666666666667\n",
      "p_92 = 0.6666666666666667\n",
      "p_93 = 0.6666666666666667\n",
      "p_94 = 0.6666666666666667\n",
      "p_95 = 0.6666666666666667\n",
      "p_96 = 0.6666666666666667\n",
      "p_97 = 0.6666666666666667\n",
      "p_98 = 0.6666666666666667\n",
      "p_99 = 0.6666666666666667\n",
      "p_100 = 0.6666666666666667\n"
     ]
    }
   ],
   "source": [
    "p = 101 * [0]; p[0] = 0; p[1] = 1.0/2.0; p[2] = 3.0/4.0\n",
    "for i in range(3,101):\n",
    "    p[i] = (1.0/2.0)*(p[i-1] + p[i-2])    \n",
    "for i in range(101):\n",
    "    print('p_{0:02d} = {1}'.format(i, p[i] ))"
   ]
  },
  {
   "cell_type": "code",
   "execution_count": 25,
   "metadata": {},
   "outputs": [
    {
     "data": {
      "image/png": "[encoded data removed]",
      "text/plain": [
       "<Figure size 432x288 with 1 Axes>"
      ]
     },
     "metadata": {
      "needs_background": "light"
     },
     "output_type": "display_data"
    }
   ],
   "source": [
    "plt.plot(np.r_[1:101], p[1:101], 'b.-')\n",
    "plt.grid(True)"
   ]
  },
  {
   "cell_type": "markdown",
   "metadata": {},
   "source": [
    "It seems that $p_2 = 3/4$ is the peak, so $2$ has the hightest probability of \n",
    "being visited. Also,\n",
    "\n",
    "$$\\lim_{k \\to \\infty} p_k = 2/3.$$"
   ]
  },
  {
   "cell_type": "markdown",
   "metadata": {},
   "source": [
    "## Simulation\n",
    "\n",
    "We now pretend we didn't know the answer and write a numerical simulation for the problem. \n",
    "\n",
    "First, we generate a large number of coin flipping games. For each game, we flip $100$ coins. We don't need $100$ coin flips to go past $100$ in each run but in a worst case of all $100$ heads, we will just make it!"
   ]
  },
  {
   "cell_type": "code",
   "execution_count": 106,
   "metadata": {},
   "outputs": [],
   "source": [
    "# Number of games\n",
    "N = int(1e5) \n",
    "# For each game, flip 100 coins (a sequence of 0s and 1s) 1: Head, 0: Tail\n",
    "coin_flips = np.random.binomial(1, 1.0/2.0, size=(N, 100)) "
   ]
  },
  {
   "cell_type": "markdown",
   "metadata": {},
   "source": [
    "To convert a series of coin flips to the numbers visited, we replace the tails (zeros) with twos and then \n",
    "simply do a cumulative sum (remember a tail meant moving two steps):"
   ]
  },
  {
   "cell_type": "code",
   "execution_count": 110,
   "metadata": {},
   "outputs": [
    {
     "data": {
      "text/plain": [
       "array([[  2,   3,   4, ..., 143, 144, 146],\n",
       "       [  1,   2,   4, ..., 140, 142, 143],\n",
       "       [  1,   3,   4, ..., 150, 152, 153],\n",
       "       ...,\n",
       "       [  2,   4,   5, ..., 150, 151, 153],\n",
       "       [  1,   3,   5, ..., 150, 152, 154],\n",
       "       [  2,   4,   6, ..., 150, 152, 154]])"
      ]
     },
     "execution_count": 110,
     "metadata": {},
     "output_type": "execute_result"
    }
   ],
   "source": [
    "path = coin_flips.copy()\n",
    "path[path==0] = 2\n",
    "path = path.cumsum(axis=1)\n",
    "path"
   ]
  },
  {
   "cell_type": "markdown",
   "metadata": {},
   "source": [
    "Now let's count how many times each umber is visited:"
   ]
  },
  {
   "cell_type": "code",
   "execution_count": 111,
   "metadata": {},
   "outputs": [],
   "source": [
    "counts = {}\n",
    "for i in range(path.shape[0]):\n",
    "    for j in range(path.shape[1]):\n",
    "        if path[i][j] not in counts:\n",
    "            counts[path[i][j]] = 1\n",
    "        else:\n",
    "            counts[path[i][j]] += 1"
   ]
  },
  {
   "cell_type": "markdown",
   "metadata": {},
   "source": [
    "We can easily convert these counts to probability estimates. (We are ignoring numbers above 100.)"
   ]
  },
  {
   "cell_type": "code",
   "execution_count": 112,
   "metadata": {},
   "outputs": [],
   "source": [
    "probabilities = {k: v/N for (k, v) in counts.items() if k <= 100}"
   ]
  },
  {
   "cell_type": "code",
   "execution_count": 116,
   "metadata": {},
   "outputs": [
    {
     "data": {
      "image/png": "[encoded data removed]",
      "text/plain": [
       "<Figure size 432x288 with 1 Axes>"
      ]
     },
     "metadata": {
      "needs_background": "light"
     },
     "output_type": "display_data"
    }
   ],
   "source": [
    "lists = sorted(probabilities.items())\n",
    "k, p_k = zip(*lists)\n",
    "plt.plot(k, p_k, '.-')\n",
    "plt.grid(True)"
   ]
  },
  {
   "cell_type": "code",
   "execution_count": 117,
   "metadata": {},
   "outputs": [
    {
     "name": "stdout",
     "output_type": "stream",
     "text": [
      "p_01 = 0.50083\n",
      "p_02 = 0.75081\n",
      "p_03 = 0.62508\n",
      "p_04 = 0.68922\n",
      "p_05 = 0.65291\n",
      "p_06 = 0.6722\n",
      "p_07 = 0.66503\n",
      "p_08 = 0.66734\n",
      "p_09 = 0.66635\n",
      "p_10 = 0.66777\n",
      "p_11 = 0.6661\n",
      "p_12 = 0.66815\n",
      "p_13 = 0.66691\n",
      "p_14 = 0.66627\n",
      "p_15 = 0.6667\n",
      "p_16 = 0.6666\n",
      "p_17 = 0.66756\n",
      "p_18 = 0.66445\n",
      "p_19 = 0.66716\n",
      "p_20 = 0.66791\n",
      "p_21 = 0.66621\n",
      "p_22 = 0.6677\n",
      "p_23 = 0.66658\n",
      "p_24 = 0.66524\n",
      "p_25 = 0.66784\n",
      "p_26 = 0.66302\n",
      "p_27 = 0.67059\n",
      "p_28 = 0.66155\n",
      "p_29 = 0.67258\n",
      "p_30 = 0.66195\n",
      "p_31 = 0.67085\n",
      "p_32 = 0.66351\n",
      "p_33 = 0.66668\n",
      "p_34 = 0.66791\n",
      "p_35 = 0.66471\n",
      "p_36 = 0.66881\n",
      "p_37 = 0.66837\n",
      "p_38 = 0.66558\n",
      "p_39 = 0.66676\n",
      "p_40 = 0.66726\n",
      "p_41 = 0.66837\n",
      "p_42 = 0.66607\n",
      "p_43 = 0.66733\n",
      "p_44 = 0.66356\n",
      "p_45 = 0.66839\n",
      "p_46 = 0.66524\n",
      "p_47 = 0.66744\n",
      "p_48 = 0.66827\n",
      "p_49 = 0.66474\n",
      "p_50 = 0.66799\n",
      "p_51 = 0.66818\n",
      "p_52 = 0.66679\n",
      "p_53 = 0.66642\n",
      "p_54 = 0.6669\n",
      "p_55 = 0.66583\n",
      "p_56 = 0.66666\n",
      "p_57 = 0.66528\n",
      "p_58 = 0.66772\n",
      "p_59 = 0.66491\n",
      "p_60 = 0.6674\n",
      "p_61 = 0.66543\n",
      "p_62 = 0.66726\n",
      "p_63 = 0.66573\n",
      "p_64 = 0.66705\n",
      "p_65 = 0.66835\n",
      "p_66 = 0.66557\n",
      "p_67 = 0.66493\n",
      "p_68 = 0.66893\n",
      "p_69 = 0.6642\n",
      "p_70 = 0.66822\n",
      "p_71 = 0.66505\n",
      "p_72 = 0.66822\n",
      "p_73 = 0.66824\n",
      "p_74 = 0.66708\n",
      "p_75 = 0.66759\n",
      "p_76 = 0.66658\n",
      "p_77 = 0.66582\n",
      "p_78 = 0.66673\n",
      "p_79 = 0.66566\n",
      "p_80 = 0.67061\n",
      "p_81 = 0.66398\n",
      "p_82 = 0.66607\n",
      "p_83 = 0.66687\n",
      "p_84 = 0.66855\n",
      "p_85 = 0.66494\n",
      "p_86 = 0.66464\n",
      "p_87 = 0.66689\n",
      "p_88 = 0.66509\n",
      "p_89 = 0.66833\n",
      "p_90 = 0.66486\n",
      "p_91 = 0.66627\n",
      "p_92 = 0.66725\n",
      "p_93 = 0.66729\n",
      "p_94 = 0.6663\n",
      "p_95 = 0.66555\n",
      "p_96 = 0.66815\n",
      "p_97 = 0.66514\n",
      "p_98 = 0.66991\n",
      "p_99 = 0.66545\n",
      "p_100 = 0.6689\n"
     ]
    }
   ],
   "source": [
    "for i in range(1, 101):\n",
    "    print('p_{0:02d} = {1}'.format(i, probabilities[i]))"
   ]
  },
  {
   "cell_type": "markdown",
   "metadata": {},
   "source": [
    "We can see the mild convergence of $p_k$ to $2/3$ in the first two digits!"
   ]
  },
  {
   "cell_type": "code",
   "execution_count": null,
   "metadata": {},
   "outputs": [],
   "source": []
  }
 ],
 "metadata": {
  "kernelspec": {
   "display_name": "Python 3",
   "language": "python",
   "name": "python3"
  },
  "language_info": {
   "codemirror_mode": {
    "name": "ipython",
    "version": 3
   },
   "file_extension": ".py",
   "mimetype": "text/x-python",
   "name": "python",
   "nbconvert_exporter": "python",
   "pygments_lexer": "ipython3",
   "version": "3.7.2"
  }
 },
 "nbformat": 4,
 "nbformat_minor": 2
}
