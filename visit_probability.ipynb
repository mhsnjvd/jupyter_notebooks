{
 "cells": [
  {
   "cell_type": "code",
   "execution_count": 5,
   "metadata": {},
   "outputs": [],
   "source": [
    "%matplotlib inline\n",
    "import matplotlib.pyplot as plt\n",
    "import numpy as np"
   ]
  },
  {
   "cell_type": "markdown",
   "metadata": {},
   "source": [
    "# Yet another coin flipping problem\n",
    "\n",
    "### Mohsin Javed, June 4, 2019 (Eid-ul-Fitar day, Oxford, UK)\n",
    "\n",
    "We are given an array of integers starting \n",
    "from $0$ and ending at $100$. We start from $0$ and \n",
    "start flipping a fair coin. If a head comes down, \n",
    "we advance by $1$ unit from our current position and \n",
    "if a tail comes down we advance by $2$ units from our currnet position. \n",
    "For example, starting from $0$, if the first coin flip is a head, we move\n",
    "to $1$, otherwise, we skip $1$ and move to $2$. \n",
    "We continue flipping the coin and keep moving forward until we \n",
    "reach hundred or beyond. \n",
    "\n",
    "The question is, which number from $1$ to $100$ in the array has the \n",
    "largest probability of being visited?  \n",
    "\n",
    "Let $p_k$ be the probability of integer $k$ being visited and let \n",
    "$T_k$ be a binomial random variable representing the $k^{th}$ toss. \n",
    "\n",
    "Then, $ p_1 = 1/2,$ because the \n",
    "only way we land at $1$ is if the first toss is a head and the probability of a head on the \n",
    "first toss is $1/2$.\n",
    "\n",
    "To calculate $p_2$, we condition on the first toss,\n",
    "\n",
    "\\begin{align*}\n",
    "p_2 &= P(\\textrm{ visiting 2 }| T_1 = Head)P(T_1 = Head) + P(\\textrm{ visiting 2 }|T_1 = Tail)P(T_1 = Tail)\\\\\n",
    "p_2 &= (1/2) (1/2) + (1) (1/2)\\\\\n",
    "p_2 &= 3/4.\n",
    "\\end{align*}\n",
    "\n",
    "We can now calculate $p_3$ but we can direclty attemp to calculate $p_k$ in general. Notice that we can visit $k$ only if we are first at $k-1$ or $k-2$. This gives us a nice recurrence relation:\n",
    "\n",
    "\\begin{align*}\n",
    "p_k &= P(\\textrm{ visiting } k| \\textrm{ visited } k-1 )P(\\textrm{ visiting } k-1)\n",
    "+ P(\\textrm{ visiting } k | \\textrm{ visited } k-2)P(\\textrm{ visiting } k-2) \\\\\n",
    "p_k &= \\frac{1}{2} p_{k-1} + \\frac{1}{2} p_{k-2}. \n",
    "\\end{align*}\n",
    "\n",
    "This is a beautiful second order recurrence relation. The probability of visiting a number is precisely \n",
    "the average of the proababilities of visiting the previous two numbers!\n",
    "\n",
    "We can solve this recurrence relation using standard methods. The solution is of the form \n",
    "\n",
    "$$p_k = Ar_1^k + Br_2^k,$$\n",
    "\n",
    "where $r_1$ and $r_2$ are the roots of the corresponding characteristic \n",
    "equation,\n",
    "\n",
    "$$ r^2 = \\frac{1}{2} r + \\frac{1}{2}. $$\n",
    "\n",
    "Solving the above quadratic, we get $r_1 = 1, r_2 = -1/2$, and using the initial conditions \n",
    "given by $p_1,p_2$, we can get the values of $A$ and $B$ as well, resulting in the final \n",
    "solution:\n",
    "\n",
    "$$ p_k = \\frac{1}{3} \\left(\\frac{2^{k+1}+(-1)^k}{2^k} \\right).$$\n"
   ]
  },
  {
   "cell_type": "markdown",
   "metadata": {},
   "source": [
    "Let us now write a short piece of code to plot the probabilities."
   ]
  },
  {
   "cell_type": "code",
   "execution_count": 99,
   "metadata": {},
   "outputs": [
    {
     "name": "stdout",
     "output_type": "stream",
     "text": [
      "p_00 = 0\n",
      "p_01 = 0.5\n",
      "p_02 = 0.75\n",
      "p_03 = 0.625\n",
      "p_04 = 0.6875\n",
      "p_05 = 0.65625\n",
      "p_06 = 0.671875\n",
      "p_07 = 0.6640625\n",
      "p_08 = 0.66796875\n",
      "p_09 = 0.666015625\n",
      "p_10 = 0.6669921875\n",
      "p_11 = 0.66650390625\n",
      "p_12 = 0.666748046875\n",
      "p_13 = 0.6666259765625\n",
      "p_14 = 0.66668701171875\n",
      "p_15 = 0.666656494140625\n",
      "p_16 = 0.6666717529296875\n",
      "p_17 = 0.6666641235351562\n",
      "p_18 = 0.6666679382324219\n",
      "p_19 = 0.6666660308837891\n",
      "p_20 = 0.6666669845581055\n",
      "p_21 = 0.6666665077209473\n",
      "p_22 = 0.6666667461395264\n",
      "p_23 = 0.6666666269302368\n",
      "p_24 = 0.6666666865348816\n",
      "p_25 = 0.6666666567325592\n",
      "p_26 = 0.6666666716337204\n",
      "p_27 = 0.6666666641831398\n",
      "p_28 = 0.6666666679084301\n",
      "p_29 = 0.666666666045785\n",
      "p_30 = 0.6666666669771075\n",
      "p_31 = 0.6666666665114462\n",
      "p_32 = 0.6666666667442769\n",
      "p_33 = 0.6666666666278616\n",
      "p_34 = 0.6666666666860692\n",
      "p_35 = 0.6666666666569654\n",
      "p_36 = 0.6666666666715173\n",
      "p_37 = 0.6666666666642413\n",
      "p_38 = 0.6666666666678793\n",
      "p_39 = 0.6666666666660603\n",
      "p_40 = 0.6666666666669698\n",
      "p_41 = 0.6666666666665151\n",
      "p_42 = 0.6666666666667425\n",
      "p_43 = 0.6666666666666288\n",
      "p_44 = 0.6666666666666856\n",
      "p_45 = 0.6666666666666572\n",
      "p_46 = 0.6666666666666714\n",
      "p_47 = 0.6666666666666643\n",
      "p_48 = 0.6666666666666679\n",
      "p_49 = 0.6666666666666661\n",
      "p_50 = 0.666666666666667\n",
      "p_51 = 0.6666666666666665\n",
      "p_52 = 0.6666666666666667\n",
      "p_53 = 0.6666666666666666\n",
      "p_54 = 0.6666666666666667\n",
      "p_55 = 0.6666666666666667\n",
      "p_56 = 0.6666666666666667\n",
      "p_57 = 0.6666666666666667\n",
      "p_58 = 0.6666666666666667\n",
      "p_59 = 0.6666666666666667\n",
      "p_60 = 0.6666666666666667\n",
      "p_61 = 0.6666666666666667\n",
      "p_62 = 0.6666666666666667\n",
      "p_63 = 0.6666666666666667\n",
      "p_64 = 0.6666666666666667\n",
      "p_65 = 0.6666666666666667\n",
      "p_66 = 0.6666666666666667\n",
      "p_67 = 0.6666666666666667\n",
      "p_68 = 0.6666666666666667\n",
      "p_69 = 0.6666666666666667\n",
      "p_70 = 0.6666666666666667\n",
      "p_71 = 0.6666666666666667\n",
      "p_72 = 0.6666666666666667\n",
      "p_73 = 0.6666666666666667\n",
      "p_74 = 0.6666666666666667\n",
      "p_75 = 0.6666666666666667\n",
      "p_76 = 0.6666666666666667\n",
      "p_77 = 0.6666666666666667\n",
      "p_78 = 0.6666666666666667\n",
      "p_79 = 0.6666666666666667\n",
      "p_80 = 0.6666666666666667\n",
      "p_81 = 0.6666666666666667\n",
      "p_82 = 0.6666666666666667\n",
      "p_83 = 0.6666666666666667\n",
      "p_84 = 0.6666666666666667\n",
      "p_85 = 0.6666666666666667\n",
      "p_86 = 0.6666666666666667\n",
      "p_87 = 0.6666666666666667\n",
      "p_88 = 0.6666666666666667\n",
      "p_89 = 0.6666666666666667\n",
      "p_90 = 0.6666666666666667\n",
      "p_91 = 0.6666666666666667\n",
      "p_92 = 0.6666666666666667\n",
      "p_93 = 0.6666666666666667\n",
      "p_94 = 0.6666666666666667\n",
      "p_95 = 0.6666666666666667\n",
      "p_96 = 0.6666666666666667\n",
      "p_97 = 0.6666666666666667\n",
      "p_98 = 0.6666666666666667\n",
      "p_99 = 0.6666666666666667\n",
      "p_100 = 0.6666666666666667\n"
     ]
    }
   ],
   "source": [
    "p = 101 * [0]; p[0] = 0; p[1] = 1.0/2.0; p[2] = 3.0/4.0\n",
    "for i in range(3,101):\n",
    "    p[i] = (1.0/2.0)*(p[i-1] + p[i-2])    \n",
    "for i in range(101):\n",
    "    print('p_{0:02d} = {1}'.format(i, p[i] ))"
   ]
  },
  {
   "cell_type": "code",
   "execution_count": 25,
   "metadata": {},
   "outputs": [
    {
     "data": {
      "image/png": "[encoded data removed]",
      "text/plain": [
       "<Figure size 432x288 with 1 Axes>"
      ]
     },
     "metadata": {
      "needs_background": "light"
     },
     "output_type": "display_data"
    }
   ],
   "source": [
    "plt.plot(np.r_[1:101], p[1:101], 'b.-')\n",
    "plt.grid(True)"
   ]
  },
  {
   "cell_type": "markdown",
   "metadata": {},
   "source": [
    "It seems that $p_2 = 3/4$ is the peak, so $2$ has the hightest probability of \n",
    "being visited. Also,\n",
    "\n",
    "$$\\lim_{k \\to \\infty} p_k = 2/3.$$"
   ]
  },
  {
   "cell_type": "markdown",
   "metadata": {},
   "source": [
    "## Simulation\n",
    "\n",
    "We now pretend we didn't know the answer and write a numerical simulation for the problem. \n",
    "\n",
    "First, we generate a large number of coin flipping games. For each game, we flip $100$ coins. We don't need $100$ coin flips to go past $100$ in each run but in a worst case of all $100$ heads, we will just make it!"
   ]
  },
  {
   "cell_type": "code",
   "execution_count": 106,
   "metadata": {},
   "outputs": [],
   "source": [
    "# Number of games\n",
    "N = int(1e5) \n",
    "# For each game, flip 100 coins (a sequence of 0s and 1s) 1: Head, 0: Tail\n",
    "coin_flips = np.random.binomial(1, 1.0/2.0, size=(N, 100)) "
   ]
  },
  {
   "cell_type": "markdown",
   "metadata": {},
   "source": [
    "To convert a series of coin flips to the numbers visited, we replace the tails (zeros) with twos and then \n",
    "simply do a cumulative sum (remember a tail meant moving two steps):"
   ]
  },
  {
   "cell_type": "code",
   "execution_count": 108,
   "metadata": {},
   "outputs": [
    {
     "data": {
      "text/plain": [
       "array([[0, 1, 1, ..., 1, 1, 0],\n",
       "       [1, 1, 0, ..., 1, 0, 1],\n",
       "       [1, 0, 1, ..., 0, 0, 1],\n",
       "       ...,\n",
       "       [0, 0, 1, ..., 0, 1, 0],\n",
       "       [1, 0, 0, ..., 1, 0, 0],\n",
       "       [0, 0, 0, ..., 1, 0, 0]])"
      ]
     },
     "execution_count": 108,
     "metadata": {},
     "output_type": "execute_result"
    }
   ],
   "source": [
    "path = coin_flips.copy()\n",
    "path[path==0] = 2\n",
    "path = path.cumsum(axis=1)"
   ]
  },
  {
   "cell_type": "markdown",
   "metadata": {},
   "source": [
    "Now let's count how many times each umber is visited:"
   ]
  },
  {
   "cell_type": "code",
   "execution_count": 102,
   "metadata": {},
   "outputs": [],
   "source": [
    "counts = {}\n",
    "for i in range(path.shape[0]):\n",
    "    for j in range(path.shape[1]):\n",
    "        if path[i][j] not in counts:\n",
    "            counts[path[i][j]] = 1\n",
    "        else:\n",
    "            counts[path[i][j]] += 1"
   ]
  },
  {
   "cell_type": "markdown",
   "metadata": {},
   "source": [
    "We can easily convert these counts to probability estimates. (We are ignoring numbers above 100.)"
   ]
  },
  {
   "cell_type": "code",
   "execution_count": 103,
   "metadata": {},
   "outputs": [],
   "source": [
    "probabilities = {k: v/N for (k, v) in counts.items() if k <= 100}"
   ]
  },
  {
   "cell_type": "code",
   "execution_count": 105,
   "metadata": {},
   "outputs": [
    {
     "data": {
      "text/plain": [
       "array([[ 1,  2,  3, ..., 55, 55, 56],\n",
       "       [ 0,  0,  0, ..., 46, 46, 47],\n",
       "       [ 0,  1,  1, ..., 43, 43, 44],\n",
       "       ...,\n",
       "       [ 0,  1,  2, ..., 56, 56, 56],\n",
       "       [ 1,  2,  2, ..., 53, 53, 53],\n",
       "       [ 0,  0,  1, ..., 46, 46, 46]])"
      ]
     },
     "execution_count": 105,
     "metadata": {},
     "output_type": "execute_result"
    }
   ],
   "source": [
    "path"
   ]
  },
  {
   "cell_type": "code",
   "execution_count": 94,
   "metadata": {},
   "outputs": [
    {
     "data": {
      "image/png": "[encoded data removed]",
      "text/plain": [
       "<Figure size 432x288 with 1 Axes>"
      ]
     },
     "metadata": {
      "needs_background": "light"
     },
     "output_type": "display_data"
    }
   ],
   "source": [
    "lists = sorted(probabilities.items())\n",
    "k, p_k = zip(*lists)\n",
    "plt.plot(k, p_k, '.-')\n",
    "plt.grid(True)"
   ]
  },
  {
   "cell_type": "code",
   "execution_count": 98,
   "metadata": {},
   "outputs": [
    {
     "name": "stdout",
     "output_type": "stream",
     "text": [
      "p_01 = 1.99275\n",
      "p_02 = 2.00545\n",
      "p_03 = 1.99347\n",
      "p_04 = 2.0031\n",
      "p_05 = 1.98952\n",
      "p_06 = 1.99871\n",
      "p_07 = 1.99679\n",
      "p_08 = 2.00003\n",
      "p_09 = 1.99886\n",
      "p_10 = 2.00651\n",
      "p_11 = 2.00239\n",
      "p_12 = 2.00104\n",
      "p_13 = 1.98977\n",
      "p_14 = 2.0079\n",
      "p_15 = 2.00174\n",
      "p_16 = 2.00318\n",
      "p_17 = 1.99946\n",
      "p_18 = 1.99535\n",
      "p_19 = 1.99969\n",
      "p_20 = 2.00197\n",
      "p_21 = 2.00723\n",
      "p_22 = 1.99707\n",
      "p_23 = 2.00004\n",
      "p_24 = 1.99709\n",
      "p_25 = 2.00109\n",
      "p_26 = 2.00261\n",
      "p_27 = 1.99798\n",
      "p_28 = 2.01\n",
      "p_29 = 1.99778\n",
      "p_30 = 1.99555\n",
      "p_31 = 2.00976\n",
      "p_32 = 1.99353\n",
      "p_33 = 2.00273\n",
      "p_34 = 2.0064\n",
      "p_35 = 2.0008\n",
      "p_36 = 1.99371\n",
      "p_37 = 1.99433\n",
      "p_38 = 1.98312\n",
      "p_39 = 1.97229\n",
      "p_40 = 1.95675\n",
      "p_41 = 1.93037\n",
      "p_42 = 1.89178\n",
      "p_43 = 1.83683\n",
      "p_44 = 1.76538\n",
      "p_45 = 1.68178\n",
      "p_46 = 1.57243\n",
      "p_47 = 1.44803\n",
      "p_48 = 1.30343\n",
      "p_49 = 1.1535\n",
      "p_50 = 0.99895\n",
      "p_51 = 0.8396\n",
      "p_52 = 0.68857\n",
      "p_53 = 0.54988\n",
      "p_54 = 0.42402\n",
      "p_55 = 0.32272\n",
      "p_56 = 0.23075\n",
      "p_57 = 0.16023\n",
      "p_58 = 0.11065\n",
      "p_59 = 0.072\n",
      "p_60 = 0.04581\n",
      "p_61 = 0.02815\n",
      "p_62 = 0.01711\n",
      "p_63 = 0.00905\n",
      "p_64 = 0.00471\n",
      "p_65 = 0.00239\n",
      "p_66 = 0.00126\n",
      "p_67 = 0.00058\n",
      "p_68 = 0.0003\n",
      "p_69 = 0.00011\n",
      "p_70 = 4e-05\n",
      "p_71 = 1e-05\n",
      "p_72 = 1e-05\n"
     ]
    },
    {
     "ename": "KeyError",
     "evalue": "73",
     "output_type": "error",
     "traceback": [
      "\u001b[0;31m---------------------------------------------------------------------------\u001b[0m",
      "\u001b[0;31mKeyError\u001b[0m                                  Traceback (most recent call last)",
      "\u001b[0;32m<ipython-input-98-e4b1ae002eba>\u001b[0m in \u001b[0;36m<module>\u001b[0;34m\u001b[0m\n\u001b[1;32m      1\u001b[0m \u001b[0;32mfor\u001b[0m \u001b[0mi\u001b[0m \u001b[0;32min\u001b[0m \u001b[0mrange\u001b[0m\u001b[0;34m(\u001b[0m\u001b[0;36m1\u001b[0m\u001b[0;34m,\u001b[0m \u001b[0;36m101\u001b[0m\u001b[0;34m)\u001b[0m\u001b[0;34m:\u001b[0m\u001b[0;34m\u001b[0m\u001b[0;34m\u001b[0m\u001b[0m\n\u001b[0;32m----> 2\u001b[0;31m     \u001b[0mprint\u001b[0m\u001b[0;34m(\u001b[0m\u001b[0;34m'p_{0:02d} = {1}'\u001b[0m\u001b[0;34m.\u001b[0m\u001b[0mformat\u001b[0m\u001b[0;34m(\u001b[0m\u001b[0mi\u001b[0m\u001b[0;34m,\u001b[0m \u001b[0mprobabilities\u001b[0m\u001b[0;34m[\u001b[0m\u001b[0mi\u001b[0m\u001b[0;34m]\u001b[0m\u001b[0;34m)\u001b[0m\u001b[0;34m)\u001b[0m\u001b[0;34m\u001b[0m\u001b[0;34m\u001b[0m\u001b[0m\n\u001b[0m",
      "\u001b[0;31mKeyError\u001b[0m: 73"
     ]
    }
   ],
   "source": [
    "for i in range(1, 101):\n",
    "    print('p_{0:02d} = {1}'.format(i, probabilities[i]))"
   ]
  },
  {
   "cell_type": "code",
   "execution_count": null,
   "metadata": {},
   "outputs": [],
   "source": []
  }
 ],
 "metadata": {
  "kernelspec": {
   "display_name": "Python 3",
   "language": "python",
   "name": "python3"
  },
  "language_info": {
   "codemirror_mode": {
    "name": "ipython",
    "version": 3
   },
   "file_extension": ".py",
   "mimetype": "text/x-python",
   "name": "python",
   "nbconvert_exporter": "python",
   "pygments_lexer": "ipython3",
   "version": "3.7.2"
  }
 },
 "nbformat": 4,
 "nbformat_minor": 2
}
